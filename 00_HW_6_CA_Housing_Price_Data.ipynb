{
 "cells": [
  {
   "cell_type": "markdown",
   "id": "b43cefa8",
   "metadata": {
    "toc": true
   },
   "source": [
    "<h1>Table of Contents<span class=\"tocSkip\"></span></h1>\n",
    "<div class=\"toc\"><ul class=\"toc-item\"><li><span><a href=\"#Instructions\" data-toc-modified-id=\"Instructions-1\"><span class=\"toc-item-num\">1&nbsp;&nbsp;</span>Instructions</a></span></li><li><span><a href=\"#Before-You-Begin\" data-toc-modified-id=\"Before-You-Begin-2\"><span class=\"toc-item-num\">2&nbsp;&nbsp;</span>Before You Begin</a></span></li><li><span><a href=\"#Imports\" data-toc-modified-id=\"Imports-3\"><span class=\"toc-item-num\">3&nbsp;&nbsp;</span>Imports</a></span></li><li><span><a href=\"#CA-Housing-Data-Extension\" data-toc-modified-id=\"CA-Housing-Data-Extension-4\"><span class=\"toc-item-num\">4&nbsp;&nbsp;</span>CA Housing Data Extension</a></span><ul class=\"toc-item\"><li><span><a href=\"#Repeat-the-housing-exercise-with-stratified-randomly-sampled-data,-compare-the-results-with-the-in-class-notebook.\" data-toc-modified-id=\"Repeat-the-housing-exercise-with-stratified-randomly-sampled-data,-compare-the-results-with-the-in-class-notebook.-4.1\"><span class=\"toc-item-num\">4.1&nbsp;&nbsp;</span>Repeat the housing exercise with stratified randomly sampled data, compare the results with the in-class notebook.</a></span></li><li><span><a href=\"#Try-a-support-vector-machine-regressor-(sklearn.svm.SVR)-with-different-hyperparameter-settings-using-a-grid-search.-Document-what-your-experiment-produces,-and-compare-to-in-class-results.\" data-toc-modified-id=\"Try-a-support-vector-machine-regressor-(sklearn.svm.SVR)-with-different-hyperparameter-settings-using-a-grid-search.-Document-what-your-experiment-produces,-and-compare-to-in-class-results.-4.2\"><span class=\"toc-item-num\">4.2&nbsp;&nbsp;</span>Try a <a href=\"https://scikit-learn.org/stable/modules/generated/sklearn.svm.SVR.html\" rel=\"nofollow\" target=\"_blank\">support vector machine regressor (sklearn.svm.SVR)</a> with different hyperparameter settings using a <a href=\"https://scikit-learn.org/stable/modules/generated/sklearn.model_selection.GridSearchCV.html\" rel=\"nofollow\" target=\"_blank\">grid search</a>. Document what your experiment produces, and compare to in-class results.</a></span></li></ul></li><li><span><a href=\"#Describe-the-Case-Study-Problem-and-Solution-As-If-You-Were-Talking-to-a-Hiring-Manager\" data-toc-modified-id=\"Describe-the-Case-Study-Problem-and-Solution-As-If-You-Were-Talking-to-a-Hiring-Manager-5\"><span class=\"toc-item-num\">5&nbsp;&nbsp;</span>Describe the Case Study Problem and Solution As If You Were Talking to a Hiring Manager</a></span></li><li><span><a href=\"#EXTRA-CREDIT:-Try-replacing-GridSearchCV-with-RandomizedSearchCV.-Does-this-make-a-difference?\" data-toc-modified-id=\"EXTRA-CREDIT:-Try-replacing-GridSearchCV-with-RandomizedSearchCV.-Does-this-make-a-difference?-6\"><span class=\"toc-item-num\">6&nbsp;&nbsp;</span>EXTRA CREDIT: Try replacing <i>GridSearchCV</i> with <i>RandomizedSearchCV</i>. Does this make a difference?</a></span></li><li><span><a href=\"#EXTRA-CREDIT:-Add-a-step-before-you-fit-your-model-to-select-only-the-most-important-predictor-variables.\" data-toc-modified-id=\"EXTRA-CREDIT:-Add-a-step-before-you-fit-your-model-to-select-only-the-most-important-predictor-variables.-7\"><span class=\"toc-item-num\">7&nbsp;&nbsp;</span>EXTRA CREDIT: Add a step before you fit your model to select only the most important predictor variables.</a></span></li></ul></div>"
   ]
  },
  {
   "cell_type": "markdown",
   "id": "e9fe1c8e",
   "metadata": {},
   "source": [
    "<hr style=\"border: 20px solid black\">"
   ]
  },
  {
   "cell_type": "markdown",
   "id": "b9999457",
   "metadata": {},
   "source": [
    "<h1>Instructions</h1>\n",
    "<br>\n",
    "<font size=\"+1\">\n",
    "    <ul>\n",
    "        <li>These questions are meant for you to explore different machine learning techniques.</li>\n",
    "        <br>\n",
    "        <li>The questions are challenging! If you give a good effort you will learn a lot! </li>\n",
    "        <br>\n",
    "        <li>See if you can find anything interesting and comment your results to the best of your ability.</li>\n",
    "        <br>\n",
    "        <li>The last two questions are for extra credit.</li>\n",
    "        <br>\n",
    "        <li style=\"color:red\">Submit the <i>.ipynb</i> file on TurnItIn on Blackboard by the deadline. Be sure to refresh the page and double check your submission actually went through.</li>\n",
    "            <br>\n",
    "            <ul style=\"color:red\">\n",
    "            <li>Do your best to make sure that I will be able to run it.</li>\n",
    "        <br>\n",
    "        <li>For example, read in the CSV files from the current directory. I.e., do not write the full path of the file in your code. That will allow me to run your notebook in any directory on my own PC.</li>\n",
    "        <br>\n",
    "        <li>Please use markdown cells to help me understand what you are doing. (I know it may be obvious, but I want to see that you know how to use markdown.)</li>\n",
    "        <br>\n",
    "        <li><b>Some of the questions may be vague, you can either ask me for clarification, or clearly explain your interpretation to the question and your solution to your interpretation</b>. Remember, an important part of being a data scientist is communication and soft skills, so take this as an opportunity to exercise those skills.</li>\n",
    "        <br>\n",
    "            </ul>\n",
    "        </ul>\n",
    "        <br>\n",
    "        <hr style=\"border: 10px solid black\">\n",
    "        <br>\n",
    "        <li><b>Grading</b></li>\n",
    "        <br>\n",
    "        <li>There are four possible scores you can get from submitting this assignment on time (submitting a blank file or one without any apparent effort does not count). Note that the rubric is designed to incentivize you to go for $100\\%$ mastery of the material, as the little details matter in programming.</li>\n",
    "        <br>\n",
    "        <ul>\n",
    "            <li>Grade of $5$ out of $5$ - perfect submission with no significant errors</li>\n",
    "            <br>\n",
    "            <li>Grade of $4$ out of $5$ - near perfect submission with one or more significant errors</li>\n",
    "            <br>\n",
    "            <li>Grade of $2$ out of $5$ - apparent effort but far from perfect</li>\n",
    "            <br>\n",
    "            <li>Grade of $0$ out of $5$ - no submission or no apparent effort</li>\n",
    "            <br>\n",
    "        </ul>\n",
    "    </ul>\n",
    "</font>\n",
    "    </ul>\n",
    "</font>"
   ]
  },
  {
   "cell_type": "markdown",
   "id": "0fb4a4c0",
   "metadata": {},
   "source": [
    "<hr style=\"border: 20px solid black\">"
   ]
  },
  {
   "cell_type": "markdown",
   "id": "4a57d36f",
   "metadata": {},
   "source": [
    "<h1>Before You Begin</h1>\n",
    "<br>\n",
    "<font size=\"+1\">\n",
    "    <ul>\n",
    "        <li>Please read: <b>01_California_Housing_Price_Prediction.ipynb</b></li>\n",
    "        <br>\n",
    "    </ul>\n",
    "</font>"
   ]
  },
  {
   "cell_type": "markdown",
   "id": "53e2370d",
   "metadata": {},
   "source": [
    "<hr style=\"border: 20px solid black\">"
   ]
  },
  {
   "cell_type": "markdown",
   "id": "795fb4c0",
   "metadata": {},
   "source": [
    "<h1>Imports</h1>"
   ]
  },
  {
   "cell_type": "code",
   "execution_count": 1,
   "id": "df3efad0",
   "metadata": {},
   "outputs": [],
   "source": [
    "import os \n",
    "import time\n",
    "\n",
    "import numpy as np\n",
    "import pandas as pd\n",
    "import matplotlib.pyplot as plt\n",
    "plt.style.use('ggplot')\n",
    "\n",
    "from sklearn.model_selection import train_test_split\n",
    "from sklearn.model_selection import StratifiedShuffleSplit"
   ]
  },
  {
   "cell_type": "markdown",
   "id": "9625aa0e",
   "metadata": {},
   "source": [
    "<hr style=\"border: 20px solid black\">"
   ]
  },
  {
   "cell_type": "markdown",
   "id": "f28901eb",
   "metadata": {},
   "source": [
    "<h1>CA Housing Data Extension</h1>"
   ]
  },
  {
   "cell_type": "markdown",
   "id": "881ce867",
   "metadata": {},
   "source": [
    "<h2>Repeat the housing exercise with stratified randomly sampled data, compare the results with the in-class notebook.</h2>"
   ]
  },
  {
   "cell_type": "code",
   "execution_count": 2,
   "id": "cc597abd",
   "metadata": {},
   "outputs": [],
   "source": [
    "housing_path = os.path.join(os.getcwd(), 'housing.csv')\n",
    "\n",
    "housing = pd.read_csv(housing_path)"
   ]
  },
  {
   "cell_type": "code",
   "execution_count": 3,
   "id": "e38628dd",
   "metadata": {},
   "outputs": [],
   "source": [
    "# use pd.cut() to bin values into (5) discrete categories labeled 1 to 5, which we'll later sample from.\n",
    "\n",
    "housing.loc[:,'income_category'] = \\\n",
    "pd.cut(housing.loc[:,'median_income'],\n",
    "      bins=[0, 1.5, 3.0, 4.5, 6.0, np.inf],\n",
    "      labels=range(1,6))"
   ]
  },
  {
   "cell_type": "code",
   "execution_count": 4,
   "id": "4a8776f2",
   "metadata": {},
   "outputs": [
    {
     "name": "stdout",
     "output_type": "stream",
     "text": [
      "[12655 15502  2908 ... 19263 19140 19773] [ 5241 17352  3505 ... 17223 10786  3965]\n"
     ]
    }
   ],
   "source": [
    "# stratified random sampling based on the income category\n",
    "\n",
    "from sklearn.model_selection import StratifiedShuffleSplit\n",
    "\n",
    "# create the splitter object\n",
    "split = StratifiedShuffleSplit(n_splits=1, test_size=0.2, random_state=42)\n",
    "\n",
    "for train_index, test_index in split.split(housing, housing.loc[:,'income_category']):\n",
    "    print(train_index, test_index)\n",
    "    strat_train_set = housing.loc[train_index, :]\n",
    "    strat_test_set = housing.loc[test_index, :]"
   ]
  },
  {
   "cell_type": "code",
   "execution_count": 5,
   "id": "e0e225ac",
   "metadata": {},
   "outputs": [
    {
     "data": {
      "text/html": [
       "<div>\n",
       "<style scoped>\n",
       "    .dataframe tbody tr th:only-of-type {\n",
       "        vertical-align: middle;\n",
       "    }\n",
       "\n",
       "    .dataframe tbody tr th {\n",
       "        vertical-align: top;\n",
       "    }\n",
       "\n",
       "    .dataframe thead th {\n",
       "        text-align: right;\n",
       "    }\n",
       "</style>\n",
       "<table border=\"1\" class=\"dataframe\">\n",
       "  <thead>\n",
       "    <tr style=\"text-align: right;\">\n",
       "      <th></th>\n",
       "      <th>longitude</th>\n",
       "      <th>latitude</th>\n",
       "      <th>housing_median_age</th>\n",
       "      <th>total_rooms</th>\n",
       "      <th>total_bedrooms</th>\n",
       "      <th>population</th>\n",
       "      <th>households</th>\n",
       "      <th>median_income</th>\n",
       "      <th>median_house_value</th>\n",
       "      <th>ocean_proximity</th>\n",
       "      <th>income_category</th>\n",
       "    </tr>\n",
       "  </thead>\n",
       "  <tbody>\n",
       "    <tr>\n",
       "      <th>12655</th>\n",
       "      <td>-121.46</td>\n",
       "      <td>38.52</td>\n",
       "      <td>29.0</td>\n",
       "      <td>3873.0</td>\n",
       "      <td>797.0</td>\n",
       "      <td>2237.0</td>\n",
       "      <td>706.0</td>\n",
       "      <td>2.1736</td>\n",
       "      <td>72100.0</td>\n",
       "      <td>INLAND</td>\n",
       "      <td>2</td>\n",
       "    </tr>\n",
       "    <tr>\n",
       "      <th>15502</th>\n",
       "      <td>-117.23</td>\n",
       "      <td>33.09</td>\n",
       "      <td>7.0</td>\n",
       "      <td>5320.0</td>\n",
       "      <td>855.0</td>\n",
       "      <td>2015.0</td>\n",
       "      <td>768.0</td>\n",
       "      <td>6.3373</td>\n",
       "      <td>279600.0</td>\n",
       "      <td>NEAR OCEAN</td>\n",
       "      <td>5</td>\n",
       "    </tr>\n",
       "    <tr>\n",
       "      <th>2908</th>\n",
       "      <td>-119.04</td>\n",
       "      <td>35.37</td>\n",
       "      <td>44.0</td>\n",
       "      <td>1618.0</td>\n",
       "      <td>310.0</td>\n",
       "      <td>667.0</td>\n",
       "      <td>300.0</td>\n",
       "      <td>2.8750</td>\n",
       "      <td>82700.0</td>\n",
       "      <td>INLAND</td>\n",
       "      <td>2</td>\n",
       "    </tr>\n",
       "    <tr>\n",
       "      <th>14053</th>\n",
       "      <td>-117.13</td>\n",
       "      <td>32.75</td>\n",
       "      <td>24.0</td>\n",
       "      <td>1877.0</td>\n",
       "      <td>519.0</td>\n",
       "      <td>898.0</td>\n",
       "      <td>483.0</td>\n",
       "      <td>2.2264</td>\n",
       "      <td>112500.0</td>\n",
       "      <td>NEAR OCEAN</td>\n",
       "      <td>2</td>\n",
       "    </tr>\n",
       "    <tr>\n",
       "      <th>20496</th>\n",
       "      <td>-118.70</td>\n",
       "      <td>34.28</td>\n",
       "      <td>27.0</td>\n",
       "      <td>3536.0</td>\n",
       "      <td>646.0</td>\n",
       "      <td>1837.0</td>\n",
       "      <td>580.0</td>\n",
       "      <td>4.4964</td>\n",
       "      <td>238300.0</td>\n",
       "      <td>&lt;1H OCEAN</td>\n",
       "      <td>3</td>\n",
       "    </tr>\n",
       "    <tr>\n",
       "      <th>...</th>\n",
       "      <td>...</td>\n",
       "      <td>...</td>\n",
       "      <td>...</td>\n",
       "      <td>...</td>\n",
       "      <td>...</td>\n",
       "      <td>...</td>\n",
       "      <td>...</td>\n",
       "      <td>...</td>\n",
       "      <td>...</td>\n",
       "      <td>...</td>\n",
       "      <td>...</td>\n",
       "    </tr>\n",
       "    <tr>\n",
       "      <th>15174</th>\n",
       "      <td>-117.07</td>\n",
       "      <td>33.03</td>\n",
       "      <td>14.0</td>\n",
       "      <td>6665.0</td>\n",
       "      <td>1231.0</td>\n",
       "      <td>2026.0</td>\n",
       "      <td>1001.0</td>\n",
       "      <td>5.0900</td>\n",
       "      <td>268500.0</td>\n",
       "      <td>&lt;1H OCEAN</td>\n",
       "      <td>4</td>\n",
       "    </tr>\n",
       "    <tr>\n",
       "      <th>12661</th>\n",
       "      <td>-121.42</td>\n",
       "      <td>38.51</td>\n",
       "      <td>15.0</td>\n",
       "      <td>7901.0</td>\n",
       "      <td>1422.0</td>\n",
       "      <td>4769.0</td>\n",
       "      <td>1418.0</td>\n",
       "      <td>2.8139</td>\n",
       "      <td>90400.0</td>\n",
       "      <td>INLAND</td>\n",
       "      <td>2</td>\n",
       "    </tr>\n",
       "    <tr>\n",
       "      <th>19263</th>\n",
       "      <td>-122.72</td>\n",
       "      <td>38.44</td>\n",
       "      <td>48.0</td>\n",
       "      <td>707.0</td>\n",
       "      <td>166.0</td>\n",
       "      <td>458.0</td>\n",
       "      <td>172.0</td>\n",
       "      <td>3.1797</td>\n",
       "      <td>140400.0</td>\n",
       "      <td>&lt;1H OCEAN</td>\n",
       "      <td>3</td>\n",
       "    </tr>\n",
       "    <tr>\n",
       "      <th>19140</th>\n",
       "      <td>-122.70</td>\n",
       "      <td>38.31</td>\n",
       "      <td>14.0</td>\n",
       "      <td>3155.0</td>\n",
       "      <td>580.0</td>\n",
       "      <td>1208.0</td>\n",
       "      <td>501.0</td>\n",
       "      <td>4.1964</td>\n",
       "      <td>258100.0</td>\n",
       "      <td>&lt;1H OCEAN</td>\n",
       "      <td>3</td>\n",
       "    </tr>\n",
       "    <tr>\n",
       "      <th>19773</th>\n",
       "      <td>-122.14</td>\n",
       "      <td>39.97</td>\n",
       "      <td>27.0</td>\n",
       "      <td>1079.0</td>\n",
       "      <td>222.0</td>\n",
       "      <td>625.0</td>\n",
       "      <td>197.0</td>\n",
       "      <td>3.1319</td>\n",
       "      <td>62700.0</td>\n",
       "      <td>INLAND</td>\n",
       "      <td>3</td>\n",
       "    </tr>\n",
       "  </tbody>\n",
       "</table>\n",
       "<p>16512 rows × 11 columns</p>\n",
       "</div>"
      ],
      "text/plain": [
       "       longitude  latitude  housing_median_age  total_rooms  total_bedrooms  \\\n",
       "12655    -121.46     38.52                29.0       3873.0           797.0   \n",
       "15502    -117.23     33.09                 7.0       5320.0           855.0   \n",
       "2908     -119.04     35.37                44.0       1618.0           310.0   \n",
       "14053    -117.13     32.75                24.0       1877.0           519.0   \n",
       "20496    -118.70     34.28                27.0       3536.0           646.0   \n",
       "...          ...       ...                 ...          ...             ...   \n",
       "15174    -117.07     33.03                14.0       6665.0          1231.0   \n",
       "12661    -121.42     38.51                15.0       7901.0          1422.0   \n",
       "19263    -122.72     38.44                48.0        707.0           166.0   \n",
       "19140    -122.70     38.31                14.0       3155.0           580.0   \n",
       "19773    -122.14     39.97                27.0       1079.0           222.0   \n",
       "\n",
       "       population  households  median_income  median_house_value  \\\n",
       "12655      2237.0       706.0         2.1736             72100.0   \n",
       "15502      2015.0       768.0         6.3373            279600.0   \n",
       "2908        667.0       300.0         2.8750             82700.0   \n",
       "14053       898.0       483.0         2.2264            112500.0   \n",
       "20496      1837.0       580.0         4.4964            238300.0   \n",
       "...           ...         ...            ...                 ...   \n",
       "15174      2026.0      1001.0         5.0900            268500.0   \n",
       "12661      4769.0      1418.0         2.8139             90400.0   \n",
       "19263       458.0       172.0         3.1797            140400.0   \n",
       "19140      1208.0       501.0         4.1964            258100.0   \n",
       "19773       625.0       197.0         3.1319             62700.0   \n",
       "\n",
       "      ocean_proximity income_category  \n",
       "12655          INLAND               2  \n",
       "15502      NEAR OCEAN               5  \n",
       "2908           INLAND               2  \n",
       "14053      NEAR OCEAN               2  \n",
       "20496       <1H OCEAN               3  \n",
       "...               ...             ...  \n",
       "15174       <1H OCEAN               4  \n",
       "12661          INLAND               2  \n",
       "19263       <1H OCEAN               3  \n",
       "19140       <1H OCEAN               3  \n",
       "19773          INLAND               3  \n",
       "\n",
       "[16512 rows x 11 columns]"
      ]
     },
     "execution_count": 5,
     "metadata": {},
     "output_type": "execute_result"
    }
   ],
   "source": [
    "strat_train_set"
   ]
  },
  {
   "cell_type": "code",
   "execution_count": 6,
   "id": "b32a952a",
   "metadata": {},
   "outputs": [
    {
     "data": {
      "text/html": [
       "<div>\n",
       "<style scoped>\n",
       "    .dataframe tbody tr th:only-of-type {\n",
       "        vertical-align: middle;\n",
       "    }\n",
       "\n",
       "    .dataframe tbody tr th {\n",
       "        vertical-align: top;\n",
       "    }\n",
       "\n",
       "    .dataframe thead th {\n",
       "        text-align: right;\n",
       "    }\n",
       "</style>\n",
       "<table border=\"1\" class=\"dataframe\">\n",
       "  <thead>\n",
       "    <tr style=\"text-align: right;\">\n",
       "      <th></th>\n",
       "      <th>longitude</th>\n",
       "      <th>latitude</th>\n",
       "      <th>housing_median_age</th>\n",
       "      <th>total_rooms</th>\n",
       "      <th>total_bedrooms</th>\n",
       "      <th>population</th>\n",
       "      <th>households</th>\n",
       "      <th>median_income</th>\n",
       "      <th>median_house_value</th>\n",
       "      <th>ocean_proximity</th>\n",
       "      <th>income_category</th>\n",
       "    </tr>\n",
       "  </thead>\n",
       "  <tbody>\n",
       "    <tr>\n",
       "      <th>5241</th>\n",
       "      <td>-118.39</td>\n",
       "      <td>34.12</td>\n",
       "      <td>29.0</td>\n",
       "      <td>6447.0</td>\n",
       "      <td>1012.0</td>\n",
       "      <td>2184.0</td>\n",
       "      <td>960.0</td>\n",
       "      <td>8.2816</td>\n",
       "      <td>500001.0</td>\n",
       "      <td>&lt;1H OCEAN</td>\n",
       "      <td>5</td>\n",
       "    </tr>\n",
       "    <tr>\n",
       "      <th>17352</th>\n",
       "      <td>-120.42</td>\n",
       "      <td>34.89</td>\n",
       "      <td>24.0</td>\n",
       "      <td>2020.0</td>\n",
       "      <td>307.0</td>\n",
       "      <td>855.0</td>\n",
       "      <td>283.0</td>\n",
       "      <td>5.0099</td>\n",
       "      <td>162500.0</td>\n",
       "      <td>&lt;1H OCEAN</td>\n",
       "      <td>4</td>\n",
       "    </tr>\n",
       "    <tr>\n",
       "      <th>3505</th>\n",
       "      <td>-118.45</td>\n",
       "      <td>34.25</td>\n",
       "      <td>36.0</td>\n",
       "      <td>1453.0</td>\n",
       "      <td>270.0</td>\n",
       "      <td>808.0</td>\n",
       "      <td>275.0</td>\n",
       "      <td>4.3839</td>\n",
       "      <td>204600.0</td>\n",
       "      <td>&lt;1H OCEAN</td>\n",
       "      <td>3</td>\n",
       "    </tr>\n",
       "    <tr>\n",
       "      <th>7777</th>\n",
       "      <td>-118.10</td>\n",
       "      <td>33.91</td>\n",
       "      <td>35.0</td>\n",
       "      <td>1653.0</td>\n",
       "      <td>325.0</td>\n",
       "      <td>1072.0</td>\n",
       "      <td>301.0</td>\n",
       "      <td>3.2708</td>\n",
       "      <td>159700.0</td>\n",
       "      <td>&lt;1H OCEAN</td>\n",
       "      <td>3</td>\n",
       "    </tr>\n",
       "    <tr>\n",
       "      <th>14155</th>\n",
       "      <td>-117.07</td>\n",
       "      <td>32.77</td>\n",
       "      <td>38.0</td>\n",
       "      <td>3779.0</td>\n",
       "      <td>614.0</td>\n",
       "      <td>1495.0</td>\n",
       "      <td>614.0</td>\n",
       "      <td>4.3529</td>\n",
       "      <td>184000.0</td>\n",
       "      <td>NEAR OCEAN</td>\n",
       "      <td>3</td>\n",
       "    </tr>\n",
       "    <tr>\n",
       "      <th>...</th>\n",
       "      <td>...</td>\n",
       "      <td>...</td>\n",
       "      <td>...</td>\n",
       "      <td>...</td>\n",
       "      <td>...</td>\n",
       "      <td>...</td>\n",
       "      <td>...</td>\n",
       "      <td>...</td>\n",
       "      <td>...</td>\n",
       "      <td>...</td>\n",
       "      <td>...</td>\n",
       "    </tr>\n",
       "    <tr>\n",
       "      <th>12182</th>\n",
       "      <td>-117.29</td>\n",
       "      <td>33.72</td>\n",
       "      <td>19.0</td>\n",
       "      <td>2248.0</td>\n",
       "      <td>427.0</td>\n",
       "      <td>1207.0</td>\n",
       "      <td>368.0</td>\n",
       "      <td>2.8170</td>\n",
       "      <td>110000.0</td>\n",
       "      <td>&lt;1H OCEAN</td>\n",
       "      <td>2</td>\n",
       "    </tr>\n",
       "    <tr>\n",
       "      <th>7275</th>\n",
       "      <td>-118.24</td>\n",
       "      <td>33.99</td>\n",
       "      <td>33.0</td>\n",
       "      <td>885.0</td>\n",
       "      <td>294.0</td>\n",
       "      <td>1270.0</td>\n",
       "      <td>282.0</td>\n",
       "      <td>2.1615</td>\n",
       "      <td>118800.0</td>\n",
       "      <td>&lt;1H OCEAN</td>\n",
       "      <td>2</td>\n",
       "    </tr>\n",
       "    <tr>\n",
       "      <th>17223</th>\n",
       "      <td>-119.72</td>\n",
       "      <td>34.44</td>\n",
       "      <td>43.0</td>\n",
       "      <td>1781.0</td>\n",
       "      <td>342.0</td>\n",
       "      <td>663.0</td>\n",
       "      <td>358.0</td>\n",
       "      <td>4.7000</td>\n",
       "      <td>293800.0</td>\n",
       "      <td>&lt;1H OCEAN</td>\n",
       "      <td>4</td>\n",
       "    </tr>\n",
       "    <tr>\n",
       "      <th>10786</th>\n",
       "      <td>-117.91</td>\n",
       "      <td>33.63</td>\n",
       "      <td>30.0</td>\n",
       "      <td>2071.0</td>\n",
       "      <td>412.0</td>\n",
       "      <td>1081.0</td>\n",
       "      <td>412.0</td>\n",
       "      <td>4.9125</td>\n",
       "      <td>335700.0</td>\n",
       "      <td>&lt;1H OCEAN</td>\n",
       "      <td>4</td>\n",
       "    </tr>\n",
       "    <tr>\n",
       "      <th>3965</th>\n",
       "      <td>-118.56</td>\n",
       "      <td>34.19</td>\n",
       "      <td>36.0</td>\n",
       "      <td>2600.0</td>\n",
       "      <td>441.0</td>\n",
       "      <td>1246.0</td>\n",
       "      <td>426.0</td>\n",
       "      <td>4.1111</td>\n",
       "      <td>215600.0</td>\n",
       "      <td>&lt;1H OCEAN</td>\n",
       "      <td>3</td>\n",
       "    </tr>\n",
       "  </tbody>\n",
       "</table>\n",
       "<p>4128 rows × 11 columns</p>\n",
       "</div>"
      ],
      "text/plain": [
       "       longitude  latitude  housing_median_age  total_rooms  total_bedrooms  \\\n",
       "5241     -118.39     34.12                29.0       6447.0          1012.0   \n",
       "17352    -120.42     34.89                24.0       2020.0           307.0   \n",
       "3505     -118.45     34.25                36.0       1453.0           270.0   \n",
       "7777     -118.10     33.91                35.0       1653.0           325.0   \n",
       "14155    -117.07     32.77                38.0       3779.0           614.0   \n",
       "...          ...       ...                 ...          ...             ...   \n",
       "12182    -117.29     33.72                19.0       2248.0           427.0   \n",
       "7275     -118.24     33.99                33.0        885.0           294.0   \n",
       "17223    -119.72     34.44                43.0       1781.0           342.0   \n",
       "10786    -117.91     33.63                30.0       2071.0           412.0   \n",
       "3965     -118.56     34.19                36.0       2600.0           441.0   \n",
       "\n",
       "       population  households  median_income  median_house_value  \\\n",
       "5241       2184.0       960.0         8.2816            500001.0   \n",
       "17352       855.0       283.0         5.0099            162500.0   \n",
       "3505        808.0       275.0         4.3839            204600.0   \n",
       "7777       1072.0       301.0         3.2708            159700.0   \n",
       "14155      1495.0       614.0         4.3529            184000.0   \n",
       "...           ...         ...            ...                 ...   \n",
       "12182      1207.0       368.0         2.8170            110000.0   \n",
       "7275       1270.0       282.0         2.1615            118800.0   \n",
       "17223       663.0       358.0         4.7000            293800.0   \n",
       "10786      1081.0       412.0         4.9125            335700.0   \n",
       "3965       1246.0       426.0         4.1111            215600.0   \n",
       "\n",
       "      ocean_proximity income_category  \n",
       "5241        <1H OCEAN               5  \n",
       "17352       <1H OCEAN               4  \n",
       "3505        <1H OCEAN               3  \n",
       "7777        <1H OCEAN               3  \n",
       "14155      NEAR OCEAN               3  \n",
       "...               ...             ...  \n",
       "12182       <1H OCEAN               2  \n",
       "7275        <1H OCEAN               2  \n",
       "17223       <1H OCEAN               4  \n",
       "10786       <1H OCEAN               4  \n",
       "3965        <1H OCEAN               3  \n",
       "\n",
       "[4128 rows x 11 columns]"
      ]
     },
     "execution_count": 6,
     "metadata": {},
     "output_type": "execute_result"
    }
   ],
   "source": [
    "strat_test_set"
   ]
  },
  {
   "cell_type": "code",
   "execution_count": 7,
   "id": "84f92e4a",
   "metadata": {},
   "outputs": [
    {
     "data": {
      "text/plain": [
       "1    0.040213\n",
       "2    0.324370\n",
       "3    0.358527\n",
       "4    0.167393\n",
       "5    0.109496\n",
       "Name: income_category, dtype: float64"
      ]
     },
     "execution_count": 7,
     "metadata": {},
     "output_type": "execute_result"
    }
   ],
   "source": [
    "train_set, test_set = train_test_split(housing, test_size=0.2, random_state=42)\n",
    "\n",
    "(test_set.loc[:,'income_category'].value_counts() / len(test_set)).sort_index()"
   ]
  },
  {
   "cell_type": "code",
   "execution_count": 8,
   "id": "12b01d10",
   "metadata": {
    "scrolled": true
   },
   "outputs": [
    {
     "data": {
      "text/html": [
       "<div>\n",
       "<style scoped>\n",
       "    .dataframe tbody tr th:only-of-type {\n",
       "        vertical-align: middle;\n",
       "    }\n",
       "\n",
       "    .dataframe tbody tr th {\n",
       "        vertical-align: top;\n",
       "    }\n",
       "\n",
       "    .dataframe thead th {\n",
       "        text-align: right;\n",
       "    }\n",
       "</style>\n",
       "<table border=\"1\" class=\"dataframe\">\n",
       "  <thead>\n",
       "    <tr style=\"text-align: right;\">\n",
       "      <th></th>\n",
       "      <th>full_data_set</th>\n",
       "      <th>strat_test_set</th>\n",
       "      <th>random_test_set</th>\n",
       "    </tr>\n",
       "  </thead>\n",
       "  <tbody>\n",
       "    <tr>\n",
       "      <th>1</th>\n",
       "      <td>0.039826</td>\n",
       "      <td>0.039971</td>\n",
       "      <td>0.040213</td>\n",
       "    </tr>\n",
       "    <tr>\n",
       "      <th>2</th>\n",
       "      <td>0.318847</td>\n",
       "      <td>0.318798</td>\n",
       "      <td>0.324370</td>\n",
       "    </tr>\n",
       "    <tr>\n",
       "      <th>3</th>\n",
       "      <td>0.350581</td>\n",
       "      <td>0.350533</td>\n",
       "      <td>0.358527</td>\n",
       "    </tr>\n",
       "    <tr>\n",
       "      <th>4</th>\n",
       "      <td>0.176308</td>\n",
       "      <td>0.176357</td>\n",
       "      <td>0.167393</td>\n",
       "    </tr>\n",
       "    <tr>\n",
       "      <th>5</th>\n",
       "      <td>0.114438</td>\n",
       "      <td>0.114341</td>\n",
       "      <td>0.109496</td>\n",
       "    </tr>\n",
       "  </tbody>\n",
       "</table>\n",
       "</div>"
      ],
      "text/plain": [
       "   full_data_set  strat_test_set  random_test_set\n",
       "1       0.039826        0.039971         0.040213\n",
       "2       0.318847        0.318798         0.324370\n",
       "3       0.350581        0.350533         0.358527\n",
       "4       0.176308        0.176357         0.167393\n",
       "5       0.114438        0.114341         0.109496"
      ]
     },
     "execution_count": 8,
     "metadata": {},
     "output_type": "execute_result"
    }
   ],
   "source": [
    "strat_test_set_percent = (strat_test_set.loc[:,'income_category'].value_counts() / len(strat_test_set))\\\n",
    "                        .sort_index()\\\n",
    "                        .rename('strat_test_set')\n",
    "\n",
    "full_data_set_percent = (housing.loc[:,'income_category'].value_counts() / len(housing))\\\n",
    "                        .sort_index()\\\n",
    "                        .rename('full_data_set')\n",
    "\n",
    "random_test_set_percent = (test_set.loc[:,'income_category'].value_counts() / len(test_set))\\\n",
    "                        .sort_index()\\\n",
    "                        .rename('random_test_set')\n",
    "\n",
    "percents = \\\n",
    "pd.concat([full_data_set_percent, \n",
    "           strat_test_set_percent, \n",
    "           random_test_set_percent], axis=1)\n",
    "\n",
    "percents"
   ]
  },
  {
   "cell_type": "code",
   "execution_count": null,
   "id": "d612babf",
   "metadata": {},
   "outputs": [],
   "source": [
    "# compare the results with in-class notebook\n",
    "# because I use same random_state = 42, the result is the same"
   ]
  },
  {
   "cell_type": "markdown",
   "id": "2d955c66",
   "metadata": {},
   "source": [
    "<h2>Try a <a href=\"https://scikit-learn.org/stable/modules/generated/sklearn.svm.SVR.html\">support vector machine regressor (sklearn.svm.SVR)</a> with different hyperparameter settings using a <a href=\"https://scikit-learn.org/stable/modules/generated/sklearn.model_selection.GridSearchCV.html\">grid search</a>. Document what your experiment produces, and compare to in-class results.</h2>\n",
    "<br>\n",
    "<font size=\"+1\">\n",
    "    Such hyperparameter settings can include:\n",
    "    <br>\n",
    "    <ul>\n",
    "        <li>different settings for <i>kernel</i> such as <i>linear, rbf, sigmoid, etc.</i>;</li>\n",
    "        <br>\n",
    "        <li>different settings for the <i>C</i> and <i>gamma</i> hyperparameters.</li>\n",
    "        <br>\n",
    "    </ul>\n",
    "    Don't worry about what these hyperparameters mean for now.\n",
    "    <br>\n",
    "    <br>\n",
    "    <b style=\"color:red\">**Warning**: the code you might write may take close to 30 minutes to run, or more depending on your hardware and the number of different hyperparameters.</b>\n",
    "    <br>\n",
    "</font>"
   ]
  },
  {
   "cell_type": "code",
   "execution_count": 9,
   "id": "9c12a5c0",
   "metadata": {},
   "outputs": [],
   "source": [
    "X_train = train_set.drop('median_house_value', axis=1)  # drop already creates a copy\n",
    "\n",
    "Y_train = train_set.loc[:,'median_house_value'].copy()"
   ]
  },
  {
   "cell_type": "code",
   "execution_count": 10,
   "id": "61e66af3",
   "metadata": {},
   "outputs": [],
   "source": [
    "X_train_numerical = X_train.iloc[:,:-1]\n",
    "X_train_categorical = X_train.iloc[:, -1]"
   ]
  },
  {
   "cell_type": "code",
   "execution_count": 11,
   "id": "5c3be4c9",
   "metadata": {},
   "outputs": [],
   "source": [
    "# Handling missing values\n",
    "\n",
    "median_train_set = X_train.loc[:,'total_bedrooms'].median()\n",
    "X_train_numerical.loc[:,'total_bedrooms'].fillna(median_train_set, inplace=True)  "
   ]
  },
  {
   "cell_type": "code",
   "execution_count": 12,
   "id": "e676a485",
   "metadata": {},
   "outputs": [],
   "source": [
    "# Creating the new variables\n",
    "\n",
    "X_train_numerical['rooms_per_household'] = X_train_numerical['total_rooms'] / X_train_numerical['households']\n",
    "\n",
    "X_train_numerical['bedrooms_per_room'] = X_train_numerical['total_bedrooms'] / X_train_numerical['total_rooms']\n",
    "\n",
    "X_train_numerical['population_per_household'] = X_train_numerical['population'] / X_train_numerical['households']"
   ]
  },
  {
   "cell_type": "code",
   "execution_count": 13,
   "id": "3e82c157",
   "metadata": {},
   "outputs": [
    {
     "name": "stderr",
     "output_type": "stream",
     "text": [
      "/var/folders/ng/hwxgpqq16t9_z0bkjjws2bj80000gn/T/ipykernel_21760/474193518.py:3: FutureWarning: Dropping of nuisance columns in DataFrame reductions (with 'numeric_only=None') is deprecated; in a future version this will raise TypeError.  Select only valid columns before calling the reduction.\n",
      "  X_train_numerical_scaled = (X_train_numerical - X_train_numerical.mean()) / X_train_numerical.std()\n"
     ]
    }
   ],
   "source": [
    "# Putting all the numerical variables on the same scale\n",
    "\n",
    "X_train_numerical_scaled = (X_train_numerical - X_train_numerical.mean()) / X_train_numerical.std()\n",
    "\n",
    "X_train_numerical_scaled = X_train_numerical_scaled.drop(columns = 'ocean_proximity')"
   ]
  },
  {
   "cell_type": "code",
   "execution_count": 14,
   "id": "b872c8cf",
   "metadata": {},
   "outputs": [],
   "source": [
    "# Handling categorical variable \n",
    "\n",
    "from sklearn.preprocessing import OneHotEncoder\n",
    "\n",
    "dummy_encoder = OneHotEncoder()\n",
    "\n",
    "ocean_proximity_dummy = dummy_encoder.fit_transform(X_train.loc[:, 'ocean_proximity'].values.reshape(-1,1))"
   ]
  },
  {
   "cell_type": "code",
   "execution_count": 15,
   "id": "53947215",
   "metadata": {},
   "outputs": [],
   "source": [
    "X_train_cleaned = pd.concat([X_train_numerical_scaled.reset_index(drop=True), \n",
    "                     pd.DataFrame(ocean_proximity_dummy.toarray(), columns=dummy_encoder.categories_[0])],\n",
    "                    axis=1)"
   ]
  },
  {
   "cell_type": "code",
   "execution_count": 16,
   "id": "8b06d813",
   "metadata": {},
   "outputs": [
    {
     "data": {
      "text/html": [
       "<div>\n",
       "<style scoped>\n",
       "    .dataframe tbody tr th:only-of-type {\n",
       "        vertical-align: middle;\n",
       "    }\n",
       "\n",
       "    .dataframe tbody tr th {\n",
       "        vertical-align: top;\n",
       "    }\n",
       "\n",
       "    .dataframe thead th {\n",
       "        text-align: right;\n",
       "    }\n",
       "</style>\n",
       "<table border=\"1\" class=\"dataframe\">\n",
       "  <thead>\n",
       "    <tr style=\"text-align: right;\">\n",
       "      <th></th>\n",
       "      <th>bedrooms_per_room</th>\n",
       "      <th>households</th>\n",
       "      <th>housing_median_age</th>\n",
       "      <th>latitude</th>\n",
       "      <th>longitude</th>\n",
       "      <th>median_income</th>\n",
       "      <th>population</th>\n",
       "      <th>population_per_household</th>\n",
       "      <th>rooms_per_household</th>\n",
       "      <th>total_bedrooms</th>\n",
       "      <th>total_rooms</th>\n",
       "      <th>&lt;1H OCEAN</th>\n",
       "      <th>INLAND</th>\n",
       "      <th>ISLAND</th>\n",
       "      <th>NEAR BAY</th>\n",
       "      <th>NEAR OCEAN</th>\n",
       "    </tr>\n",
       "  </thead>\n",
       "  <tbody>\n",
       "    <tr>\n",
       "      <th>0</th>\n",
       "      <td>-0.211778</td>\n",
       "      <td>0.322896</td>\n",
       "      <td>0.348480</td>\n",
       "      <td>-1.372770</td>\n",
       "      <td>1.272548</td>\n",
       "      <td>-0.326186</td>\n",
       "      <td>0.768253</td>\n",
       "      <td>0.051375</td>\n",
       "      <td>-0.174911</td>\n",
       "      <td>0.211221</td>\n",
       "      <td>0.222563</td>\n",
       "      <td>0.0</td>\n",
       "      <td>0.0</td>\n",
       "      <td>0.0</td>\n",
       "      <td>0.0</td>\n",
       "      <td>1.0</td>\n",
       "    </tr>\n",
       "    <tr>\n",
       "      <th>1</th>\n",
       "      <td>0.342175</td>\n",
       "      <td>0.672007</td>\n",
       "      <td>1.618069</td>\n",
       "      <td>-0.876669</td>\n",
       "      <td>0.709141</td>\n",
       "      <td>-0.035842</td>\n",
       "      <td>-0.098898</td>\n",
       "      <td>-0.117359</td>\n",
       "      <td>-0.402823</td>\n",
       "      <td>0.593076</td>\n",
       "      <td>0.340283</td>\n",
       "      <td>0.0</td>\n",
       "      <td>0.0</td>\n",
       "      <td>0.0</td>\n",
       "      <td>0.0</td>\n",
       "      <td>1.0</td>\n",
       "    </tr>\n",
       "    <tr>\n",
       "      <th>2</th>\n",
       "      <td>-0.661638</td>\n",
       "      <td>-0.430448</td>\n",
       "      <td>-1.952651</td>\n",
       "      <td>-0.460133</td>\n",
       "      <td>-0.447590</td>\n",
       "      <td>0.144697</td>\n",
       "      <td>-0.449804</td>\n",
       "      <td>-0.032279</td>\n",
       "      <td>0.088213</td>\n",
       "      <td>-0.495211</td>\n",
       "      <td>-0.342587</td>\n",
       "      <td>0.0</td>\n",
       "      <td>0.0</td>\n",
       "      <td>0.0</td>\n",
       "      <td>0.0</td>\n",
       "      <td>1.0</td>\n",
       "    </tr>\n",
       "    <tr>\n",
       "      <th>3</th>\n",
       "      <td>0.783008</td>\n",
       "      <td>-0.380575</td>\n",
       "      <td>0.586528</td>\n",
       "      <td>-1.382130</td>\n",
       "      <td>1.232661</td>\n",
       "      <td>-1.017834</td>\n",
       "      <td>-0.007434</td>\n",
       "      <td>0.077505</td>\n",
       "      <td>-0.599997</td>\n",
       "      <td>-0.409293</td>\n",
       "      <td>-0.561473</td>\n",
       "      <td>0.0</td>\n",
       "      <td>0.0</td>\n",
       "      <td>0.0</td>\n",
       "      <td>0.0</td>\n",
       "      <td>1.0</td>\n",
       "    </tr>\n",
       "    <tr>\n",
       "      <th>4</th>\n",
       "      <td>-0.550347</td>\n",
       "      <td>-0.314953</td>\n",
       "      <td>1.141973</td>\n",
       "      <td>0.532068</td>\n",
       "      <td>-0.108548</td>\n",
       "      <td>-0.171483</td>\n",
       "      <td>-0.485862</td>\n",
       "      <td>-0.068830</td>\n",
       "      <td>0.348997</td>\n",
       "      <td>-0.256551</td>\n",
       "      <td>-0.119562</td>\n",
       "      <td>0.0</td>\n",
       "      <td>1.0</td>\n",
       "      <td>0.0</td>\n",
       "      <td>0.0</td>\n",
       "      <td>0.0</td>\n",
       "    </tr>\n",
       "    <tr>\n",
       "      <th>...</th>\n",
       "      <td>...</td>\n",
       "      <td>...</td>\n",
       "      <td>...</td>\n",
       "      <td>...</td>\n",
       "      <td>...</td>\n",
       "      <td>...</td>\n",
       "      <td>...</td>\n",
       "      <td>...</td>\n",
       "      <td>...</td>\n",
       "      <td>...</td>\n",
       "      <td>...</td>\n",
       "      <td>...</td>\n",
       "      <td>...</td>\n",
       "      <td>...</td>\n",
       "      <td>...</td>\n",
       "      <td>...</td>\n",
       "    </tr>\n",
       "    <tr>\n",
       "      <th>16507</th>\n",
       "      <td>-1.064398</td>\n",
       "      <td>-0.742810</td>\n",
       "      <td>0.507178</td>\n",
       "      <td>-0.871989</td>\n",
       "      <td>0.808859</td>\n",
       "      <td>1.307175</td>\n",
       "      <td>-0.675827</td>\n",
       "      <td>-0.005588</td>\n",
       "      <td>0.290611</td>\n",
       "      <td>-0.805468</td>\n",
       "      <td>-0.603319</td>\n",
       "      <td>1.0</td>\n",
       "      <td>0.0</td>\n",
       "      <td>0.0</td>\n",
       "      <td>0.0</td>\n",
       "      <td>0.0</td>\n",
       "    </tr>\n",
       "    <tr>\n",
       "      <th>16508</th>\n",
       "      <td>-0.483367</td>\n",
       "      <td>-0.133835</td>\n",
       "      <td>0.348480</td>\n",
       "      <td>-0.759665</td>\n",
       "      <td>1.073112</td>\n",
       "      <td>-0.436253</td>\n",
       "      <td>0.287186</td>\n",
       "      <td>0.069720</td>\n",
       "      <td>0.600392</td>\n",
       "      <td>0.075185</td>\n",
       "      <td>0.203249</td>\n",
       "      <td>0.0</td>\n",
       "      <td>1.0</td>\n",
       "      <td>0.0</td>\n",
       "      <td>0.0</td>\n",
       "      <td>0.0</td>\n",
       "    </tr>\n",
       "    <tr>\n",
       "      <th>16509</th>\n",
       "      <td>0.999484</td>\n",
       "      <td>0.070906</td>\n",
       "      <td>0.586528</td>\n",
       "      <td>-0.754985</td>\n",
       "      <td>0.599451</td>\n",
       "      <td>-0.496958</td>\n",
       "      <td>0.289825</td>\n",
       "      <td>0.020305</td>\n",
       "      <td>-0.606741</td>\n",
       "      <td>0.072799</td>\n",
       "      <td>-0.248778</td>\n",
       "      <td>1.0</td>\n",
       "      <td>0.0</td>\n",
       "      <td>0.0</td>\n",
       "      <td>0.0</td>\n",
       "      <td>0.0</td>\n",
       "    </tr>\n",
       "    <tr>\n",
       "      <th>16510</th>\n",
       "      <td>-0.790838</td>\n",
       "      <td>0.154903</td>\n",
       "      <td>-1.079808</td>\n",
       "      <td>0.906483</td>\n",
       "      <td>-1.185504</td>\n",
       "      <td>0.965421</td>\n",
       "      <td>0.308293</td>\n",
       "      <td>0.007076</td>\n",
       "      <td>0.402163</td>\n",
       "      <td>0.139623</td>\n",
       "      <td>0.429033</td>\n",
       "      <td>1.0</td>\n",
       "      <td>0.0</td>\n",
       "      <td>0.0</td>\n",
       "      <td>0.0</td>\n",
       "      <td>0.0</td>\n",
       "    </tr>\n",
       "    <tr>\n",
       "      <th>16511</th>\n",
       "      <td>1.695152</td>\n",
       "      <td>1.947705</td>\n",
       "      <td>1.856117</td>\n",
       "      <td>0.995407</td>\n",
       "      <td>-1.414855</td>\n",
       "      <td>-0.685427</td>\n",
       "      <td>1.048802</td>\n",
       "      <td>-0.085352</td>\n",
       "      <td>-0.851420</td>\n",
       "      <td>1.853198</td>\n",
       "      <td>0.728392</td>\n",
       "      <td>0.0</td>\n",
       "      <td>0.0</td>\n",
       "      <td>0.0</td>\n",
       "      <td>1.0</td>\n",
       "      <td>0.0</td>\n",
       "    </tr>\n",
       "  </tbody>\n",
       "</table>\n",
       "<p>16512 rows × 16 columns</p>\n",
       "</div>"
      ],
      "text/plain": [
       "       bedrooms_per_room  households  housing_median_age  latitude  longitude  \\\n",
       "0              -0.211778    0.322896            0.348480 -1.372770   1.272548   \n",
       "1               0.342175    0.672007            1.618069 -0.876669   0.709141   \n",
       "2              -0.661638   -0.430448           -1.952651 -0.460133  -0.447590   \n",
       "3               0.783008   -0.380575            0.586528 -1.382130   1.232661   \n",
       "4              -0.550347   -0.314953            1.141973  0.532068  -0.108548   \n",
       "...                  ...         ...                 ...       ...        ...   \n",
       "16507          -1.064398   -0.742810            0.507178 -0.871989   0.808859   \n",
       "16508          -0.483367   -0.133835            0.348480 -0.759665   1.073112   \n",
       "16509           0.999484    0.070906            0.586528 -0.754985   0.599451   \n",
       "16510          -0.790838    0.154903           -1.079808  0.906483  -1.185504   \n",
       "16511           1.695152    1.947705            1.856117  0.995407  -1.414855   \n",
       "\n",
       "       median_income  population  population_per_household  \\\n",
       "0          -0.326186    0.768253                  0.051375   \n",
       "1          -0.035842   -0.098898                 -0.117359   \n",
       "2           0.144697   -0.449804                 -0.032279   \n",
       "3          -1.017834   -0.007434                  0.077505   \n",
       "4          -0.171483   -0.485862                 -0.068830   \n",
       "...              ...         ...                       ...   \n",
       "16507       1.307175   -0.675827                 -0.005588   \n",
       "16508      -0.436253    0.287186                  0.069720   \n",
       "16509      -0.496958    0.289825                  0.020305   \n",
       "16510       0.965421    0.308293                  0.007076   \n",
       "16511      -0.685427    1.048802                 -0.085352   \n",
       "\n",
       "       rooms_per_household  total_bedrooms  total_rooms  <1H OCEAN  INLAND  \\\n",
       "0                -0.174911        0.211221     0.222563        0.0     0.0   \n",
       "1                -0.402823        0.593076     0.340283        0.0     0.0   \n",
       "2                 0.088213       -0.495211    -0.342587        0.0     0.0   \n",
       "3                -0.599997       -0.409293    -0.561473        0.0     0.0   \n",
       "4                 0.348997       -0.256551    -0.119562        0.0     1.0   \n",
       "...                    ...             ...          ...        ...     ...   \n",
       "16507             0.290611       -0.805468    -0.603319        1.0     0.0   \n",
       "16508             0.600392        0.075185     0.203249        0.0     1.0   \n",
       "16509            -0.606741        0.072799    -0.248778        1.0     0.0   \n",
       "16510             0.402163        0.139623     0.429033        1.0     0.0   \n",
       "16511            -0.851420        1.853198     0.728392        0.0     0.0   \n",
       "\n",
       "       ISLAND  NEAR BAY  NEAR OCEAN  \n",
       "0         0.0       0.0         1.0  \n",
       "1         0.0       0.0         1.0  \n",
       "2         0.0       0.0         1.0  \n",
       "3         0.0       0.0         1.0  \n",
       "4         0.0       0.0         0.0  \n",
       "...       ...       ...         ...  \n",
       "16507     0.0       0.0         0.0  \n",
       "16508     0.0       0.0         0.0  \n",
       "16509     0.0       0.0         0.0  \n",
       "16510     0.0       0.0         0.0  \n",
       "16511     0.0       1.0         0.0  \n",
       "\n",
       "[16512 rows x 16 columns]"
      ]
     },
     "execution_count": 16,
     "metadata": {},
     "output_type": "execute_result"
    }
   ],
   "source": [
    "X_train_cleaned"
   ]
  },
  {
   "cell_type": "code",
   "execution_count": 17,
   "id": "c2c3dc9c",
   "metadata": {},
   "outputs": [],
   "source": [
    "# grid search\n",
    "from sklearn.model_selection import GridSearchCV\n",
    "\n",
    "param_grid = [\n",
    "  {'C': [1, 10, 100, 1000], 'kernel': ['linear']},\n",
    "  {'C': [1, 10, 100, 1000], 'gamma': [0.001, 0.0001], 'kernel': ['rbf', 'sigmoid']},\n",
    " ]"
   ]
  },
  {
   "cell_type": "code",
   "execution_count": 18,
   "id": "4bf73880",
   "metadata": {},
   "outputs": [
    {
     "data": {
      "text/html": [
       "<style>#sk-container-id-1 {color: black;background-color: white;}#sk-container-id-1 pre{padding: 0;}#sk-container-id-1 div.sk-toggleable {background-color: white;}#sk-container-id-1 label.sk-toggleable__label {cursor: pointer;display: block;width: 100%;margin-bottom: 0;padding: 0.3em;box-sizing: border-box;text-align: center;}#sk-container-id-1 label.sk-toggleable__label-arrow:before {content: \"▸\";float: left;margin-right: 0.25em;color: #696969;}#sk-container-id-1 label.sk-toggleable__label-arrow:hover:before {color: black;}#sk-container-id-1 div.sk-estimator:hover label.sk-toggleable__label-arrow:before {color: black;}#sk-container-id-1 div.sk-toggleable__content {max-height: 0;max-width: 0;overflow: hidden;text-align: left;background-color: #f0f8ff;}#sk-container-id-1 div.sk-toggleable__content pre {margin: 0.2em;color: black;border-radius: 0.25em;background-color: #f0f8ff;}#sk-container-id-1 input.sk-toggleable__control:checked~div.sk-toggleable__content {max-height: 200px;max-width: 100%;overflow: auto;}#sk-container-id-1 input.sk-toggleable__control:checked~label.sk-toggleable__label-arrow:before {content: \"▾\";}#sk-container-id-1 div.sk-estimator input.sk-toggleable__control:checked~label.sk-toggleable__label {background-color: #d4ebff;}#sk-container-id-1 div.sk-label input.sk-toggleable__control:checked~label.sk-toggleable__label {background-color: #d4ebff;}#sk-container-id-1 input.sk-hidden--visually {border: 0;clip: rect(1px 1px 1px 1px);clip: rect(1px, 1px, 1px, 1px);height: 1px;margin: -1px;overflow: hidden;padding: 0;position: absolute;width: 1px;}#sk-container-id-1 div.sk-estimator {font-family: monospace;background-color: #f0f8ff;border: 1px dotted black;border-radius: 0.25em;box-sizing: border-box;margin-bottom: 0.5em;}#sk-container-id-1 div.sk-estimator:hover {background-color: #d4ebff;}#sk-container-id-1 div.sk-parallel-item::after {content: \"\";width: 100%;border-bottom: 1px solid gray;flex-grow: 1;}#sk-container-id-1 div.sk-label:hover label.sk-toggleable__label {background-color: #d4ebff;}#sk-container-id-1 div.sk-serial::before {content: \"\";position: absolute;border-left: 1px solid gray;box-sizing: border-box;top: 0;bottom: 0;left: 50%;z-index: 0;}#sk-container-id-1 div.sk-serial {display: flex;flex-direction: column;align-items: center;background-color: white;padding-right: 0.2em;padding-left: 0.2em;position: relative;}#sk-container-id-1 div.sk-item {position: relative;z-index: 1;}#sk-container-id-1 div.sk-parallel {display: flex;align-items: stretch;justify-content: center;background-color: white;position: relative;}#sk-container-id-1 div.sk-item::before, #sk-container-id-1 div.sk-parallel-item::before {content: \"\";position: absolute;border-left: 1px solid gray;box-sizing: border-box;top: 0;bottom: 0;left: 50%;z-index: -1;}#sk-container-id-1 div.sk-parallel-item {display: flex;flex-direction: column;z-index: 1;position: relative;background-color: white;}#sk-container-id-1 div.sk-parallel-item:first-child::after {align-self: flex-end;width: 50%;}#sk-container-id-1 div.sk-parallel-item:last-child::after {align-self: flex-start;width: 50%;}#sk-container-id-1 div.sk-parallel-item:only-child::after {width: 0;}#sk-container-id-1 div.sk-dashed-wrapped {border: 1px dashed gray;margin: 0 0.4em 0.5em 0.4em;box-sizing: border-box;padding-bottom: 0.4em;background-color: white;}#sk-container-id-1 div.sk-label label {font-family: monospace;font-weight: bold;display: inline-block;line-height: 1.2em;}#sk-container-id-1 div.sk-label-container {text-align: center;}#sk-container-id-1 div.sk-container {/* jupyter's `normalize.less` sets `[hidden] { display: none; }` but bootstrap.min.css set `[hidden] { display: none !important; }` so we also need the `!important` here to be able to override the default hidden behavior on the sphinx rendered scikit-learn.org. See: https://github.com/scikit-learn/scikit-learn/issues/21755 */display: inline-block !important;position: relative;}#sk-container-id-1 div.sk-text-repr-fallback {display: none;}</style><div id=\"sk-container-id-1\" class=\"sk-top-container\"><div class=\"sk-text-repr-fallback\"><pre>GridSearchCV(cv=5, estimator=SVR(),\n",
       "             param_grid=[{&#x27;C&#x27;: [1, 10, 100, 1000], &#x27;kernel&#x27;: [&#x27;linear&#x27;]},\n",
       "                         {&#x27;C&#x27;: [1, 10, 100, 1000], &#x27;gamma&#x27;: [0.001, 0.0001],\n",
       "                          &#x27;kernel&#x27;: [&#x27;rbf&#x27;, &#x27;sigmoid&#x27;]}],\n",
       "             return_train_score=True, scoring=&#x27;neg_mean_squared_error&#x27;)</pre><b>In a Jupyter environment, please rerun this cell to show the HTML representation or trust the notebook. <br />On GitHub, the HTML representation is unable to render, please try loading this page with nbviewer.org.</b></div><div class=\"sk-container\" hidden><div class=\"sk-item sk-dashed-wrapped\"><div class=\"sk-label-container\"><div class=\"sk-label sk-toggleable\"><input class=\"sk-toggleable__control sk-hidden--visually\" id=\"sk-estimator-id-1\" type=\"checkbox\" ><label for=\"sk-estimator-id-1\" class=\"sk-toggleable__label sk-toggleable__label-arrow\">GridSearchCV</label><div class=\"sk-toggleable__content\"><pre>GridSearchCV(cv=5, estimator=SVR(),\n",
       "             param_grid=[{&#x27;C&#x27;: [1, 10, 100, 1000], &#x27;kernel&#x27;: [&#x27;linear&#x27;]},\n",
       "                         {&#x27;C&#x27;: [1, 10, 100, 1000], &#x27;gamma&#x27;: [0.001, 0.0001],\n",
       "                          &#x27;kernel&#x27;: [&#x27;rbf&#x27;, &#x27;sigmoid&#x27;]}],\n",
       "             return_train_score=True, scoring=&#x27;neg_mean_squared_error&#x27;)</pre></div></div></div><div class=\"sk-parallel\"><div class=\"sk-parallel-item\"><div class=\"sk-item\"><div class=\"sk-label-container\"><div class=\"sk-label sk-toggleable\"><input class=\"sk-toggleable__control sk-hidden--visually\" id=\"sk-estimator-id-2\" type=\"checkbox\" ><label for=\"sk-estimator-id-2\" class=\"sk-toggleable__label sk-toggleable__label-arrow\">estimator: SVR</label><div class=\"sk-toggleable__content\"><pre>SVR()</pre></div></div></div><div class=\"sk-serial\"><div class=\"sk-item\"><div class=\"sk-estimator sk-toggleable\"><input class=\"sk-toggleable__control sk-hidden--visually\" id=\"sk-estimator-id-3\" type=\"checkbox\" ><label for=\"sk-estimator-id-3\" class=\"sk-toggleable__label sk-toggleable__label-arrow\">SVR</label><div class=\"sk-toggleable__content\"><pre>SVR()</pre></div></div></div></div></div></div></div></div></div></div>"
      ],
      "text/plain": [
       "GridSearchCV(cv=5, estimator=SVR(),\n",
       "             param_grid=[{'C': [1, 10, 100, 1000], 'kernel': ['linear']},\n",
       "                         {'C': [1, 10, 100, 1000], 'gamma': [0.001, 0.0001],\n",
       "                          'kernel': ['rbf', 'sigmoid']}],\n",
       "             return_train_score=True, scoring='neg_mean_squared_error')"
      ]
     },
     "execution_count": 18,
     "metadata": {},
     "output_type": "execute_result"
    }
   ],
   "source": [
    "from sklearn.svm import SVR\n",
    "\n",
    "SVR_reg = SVR()\n",
    "\n",
    "grid_search = GridSearchCV(SVR_reg,\n",
    "                          param_grid,\n",
    "                          cv=5,\n",
    "                          scoring='neg_mean_squared_error',\n",
    "                          return_train_score=True, \n",
    "                          refit=True)\n",
    "# 'refit=True' means once grid search finds the best estimator using CV, \n",
    "# it re-estimates the model on the whole training set\n",
    "\n",
    "grid_search.fit(X_train_cleaned, Y_train)"
   ]
  },
  {
   "cell_type": "code",
   "execution_count": 19,
   "id": "f01f44b7",
   "metadata": {},
   "outputs": [
    {
     "data": {
      "text/html": [
       "<style>#sk-container-id-2 {color: black;background-color: white;}#sk-container-id-2 pre{padding: 0;}#sk-container-id-2 div.sk-toggleable {background-color: white;}#sk-container-id-2 label.sk-toggleable__label {cursor: pointer;display: block;width: 100%;margin-bottom: 0;padding: 0.3em;box-sizing: border-box;text-align: center;}#sk-container-id-2 label.sk-toggleable__label-arrow:before {content: \"▸\";float: left;margin-right: 0.25em;color: #696969;}#sk-container-id-2 label.sk-toggleable__label-arrow:hover:before {color: black;}#sk-container-id-2 div.sk-estimator:hover label.sk-toggleable__label-arrow:before {color: black;}#sk-container-id-2 div.sk-toggleable__content {max-height: 0;max-width: 0;overflow: hidden;text-align: left;background-color: #f0f8ff;}#sk-container-id-2 div.sk-toggleable__content pre {margin: 0.2em;color: black;border-radius: 0.25em;background-color: #f0f8ff;}#sk-container-id-2 input.sk-toggleable__control:checked~div.sk-toggleable__content {max-height: 200px;max-width: 100%;overflow: auto;}#sk-container-id-2 input.sk-toggleable__control:checked~label.sk-toggleable__label-arrow:before {content: \"▾\";}#sk-container-id-2 div.sk-estimator input.sk-toggleable__control:checked~label.sk-toggleable__label {background-color: #d4ebff;}#sk-container-id-2 div.sk-label input.sk-toggleable__control:checked~label.sk-toggleable__label {background-color: #d4ebff;}#sk-container-id-2 input.sk-hidden--visually {border: 0;clip: rect(1px 1px 1px 1px);clip: rect(1px, 1px, 1px, 1px);height: 1px;margin: -1px;overflow: hidden;padding: 0;position: absolute;width: 1px;}#sk-container-id-2 div.sk-estimator {font-family: monospace;background-color: #f0f8ff;border: 1px dotted black;border-radius: 0.25em;box-sizing: border-box;margin-bottom: 0.5em;}#sk-container-id-2 div.sk-estimator:hover {background-color: #d4ebff;}#sk-container-id-2 div.sk-parallel-item::after {content: \"\";width: 100%;border-bottom: 1px solid gray;flex-grow: 1;}#sk-container-id-2 div.sk-label:hover label.sk-toggleable__label {background-color: #d4ebff;}#sk-container-id-2 div.sk-serial::before {content: \"\";position: absolute;border-left: 1px solid gray;box-sizing: border-box;top: 0;bottom: 0;left: 50%;z-index: 0;}#sk-container-id-2 div.sk-serial {display: flex;flex-direction: column;align-items: center;background-color: white;padding-right: 0.2em;padding-left: 0.2em;position: relative;}#sk-container-id-2 div.sk-item {position: relative;z-index: 1;}#sk-container-id-2 div.sk-parallel {display: flex;align-items: stretch;justify-content: center;background-color: white;position: relative;}#sk-container-id-2 div.sk-item::before, #sk-container-id-2 div.sk-parallel-item::before {content: \"\";position: absolute;border-left: 1px solid gray;box-sizing: border-box;top: 0;bottom: 0;left: 50%;z-index: -1;}#sk-container-id-2 div.sk-parallel-item {display: flex;flex-direction: column;z-index: 1;position: relative;background-color: white;}#sk-container-id-2 div.sk-parallel-item:first-child::after {align-self: flex-end;width: 50%;}#sk-container-id-2 div.sk-parallel-item:last-child::after {align-self: flex-start;width: 50%;}#sk-container-id-2 div.sk-parallel-item:only-child::after {width: 0;}#sk-container-id-2 div.sk-dashed-wrapped {border: 1px dashed gray;margin: 0 0.4em 0.5em 0.4em;box-sizing: border-box;padding-bottom: 0.4em;background-color: white;}#sk-container-id-2 div.sk-label label {font-family: monospace;font-weight: bold;display: inline-block;line-height: 1.2em;}#sk-container-id-2 div.sk-label-container {text-align: center;}#sk-container-id-2 div.sk-container {/* jupyter's `normalize.less` sets `[hidden] { display: none; }` but bootstrap.min.css set `[hidden] { display: none !important; }` so we also need the `!important` here to be able to override the default hidden behavior on the sphinx rendered scikit-learn.org. See: https://github.com/scikit-learn/scikit-learn/issues/21755 */display: inline-block !important;position: relative;}#sk-container-id-2 div.sk-text-repr-fallback {display: none;}</style><div id=\"sk-container-id-2\" class=\"sk-top-container\"><div class=\"sk-text-repr-fallback\"><pre>SVR(C=1000, kernel=&#x27;linear&#x27;)</pre><b>In a Jupyter environment, please rerun this cell to show the HTML representation or trust the notebook. <br />On GitHub, the HTML representation is unable to render, please try loading this page with nbviewer.org.</b></div><div class=\"sk-container\" hidden><div class=\"sk-item\"><div class=\"sk-estimator sk-toggleable\"><input class=\"sk-toggleable__control sk-hidden--visually\" id=\"sk-estimator-id-4\" type=\"checkbox\" checked><label for=\"sk-estimator-id-4\" class=\"sk-toggleable__label sk-toggleable__label-arrow\">SVR</label><div class=\"sk-toggleable__content\"><pre>SVR(C=1000, kernel=&#x27;linear&#x27;)</pre></div></div></div></div></div>"
      ],
      "text/plain": [
       "SVR(C=1000, kernel='linear')"
      ]
     },
     "execution_count": 19,
     "metadata": {},
     "output_type": "execute_result"
    }
   ],
   "source": [
    "grid_search.best_estimator_"
   ]
  },
  {
   "cell_type": "code",
   "execution_count": 37,
   "id": "2a0bbb91",
   "metadata": {},
   "outputs": [],
   "source": [
    "cv_results = grid_search.cv_results_"
   ]
  },
  {
   "cell_type": "code",
   "execution_count": 38,
   "id": "2fdf8650",
   "metadata": {},
   "outputs": [
    {
     "data": {
      "text/plain": [
       "<zip at 0x7fe1214aedc0>"
      ]
     },
     "execution_count": 38,
     "metadata": {},
     "output_type": "execute_result"
    }
   ],
   "source": [
    "zip(cv_results['mean_test_score'], cv_results['params'])"
   ]
  },
  {
   "cell_type": "code",
   "execution_count": 39,
   "id": "757c72a4",
   "metadata": {
    "scrolled": false
   },
   "outputs": [
    {
     "name": "stdout",
     "output_type": "stream",
     "text": [
      "112241.50875847027 {'C': 1, 'kernel': 'linear'}\n",
      "84292.78637079947 {'C': 10, 'kernel': 'linear'}\n",
      "70572.5744502634 {'C': 100, 'kernel': 'linear'}\n",
      "69166.17051097589 {'C': 1000, 'kernel': 'linear'}\n",
      "118778.85153722836 {'C': 1, 'gamma': 0.001, 'kernel': 'rbf'}\n",
      "118786.43201871183 {'C': 1, 'gamma': 0.001, 'kernel': 'sigmoid'}\n",
      "118792.87243665865 {'C': 1, 'gamma': 0.0001, 'kernel': 'rbf'}\n",
      "118793.67113160985 {'C': 1, 'gamma': 0.0001, 'kernel': 'sigmoid'}\n",
      "118644.06900456245 {'C': 10, 'gamma': 0.001, 'kernel': 'rbf'}\n",
      "118714.63794336264 {'C': 10, 'gamma': 0.001, 'kernel': 'sigmoid'}\n",
      "118778.44232171566 {'C': 10, 'gamma': 0.0001, 'kernel': 'rbf'}\n",
      "118786.43218602151 {'C': 10, 'gamma': 0.0001, 'kernel': 'sigmoid'}\n",
      "117456.41316674194 {'C': 100, 'gamma': 0.001, 'kernel': 'rbf'}\n",
      "118083.03115104228 {'C': 100, 'gamma': 0.001, 'kernel': 'sigmoid'}\n",
      "118640.66281084894 {'C': 100, 'gamma': 0.0001, 'kernel': 'rbf'}\n",
      "118714.6396976861 {'C': 100, 'gamma': 0.0001, 'kernel': 'sigmoid'}\n",
      "107053.02875627564 {'C': 1000, 'gamma': 0.001, 'kernel': 'rbf'}\n",
      "112241.13099566368 {'C': 1000, 'gamma': 0.001, 'kernel': 'sigmoid'}\n",
      "117425.73766603164 {'C': 1000, 'gamma': 0.0001, 'kernel': 'rbf'}\n",
      "118083.05396553344 {'C': 1000, 'gamma': 0.0001, 'kernel': 'sigmoid'}\n"
     ]
    }
   ],
   "source": [
    "for mean_score, params in zip(cv_results['mean_test_score'], cv_results['params']):\n",
    "    print(np.sqrt(-mean_score), params)"
   ]
  },
  {
   "cell_type": "code",
   "execution_count": 40,
   "id": "00b69511",
   "metadata": {},
   "outputs": [],
   "source": [
    "# the best result is mean_score = 69166.17051097589, with the parameter {'C': 1000, 'kernel': 'linear'}"
   ]
  },
  {
   "cell_type": "code",
   "execution_count": 41,
   "id": "ea430446",
   "metadata": {},
   "outputs": [],
   "source": [
    "# compare the results with in-class notebook\n",
    "# the best result is mean_score = 49851.098590224436 , with the parameter {'max_features': 6, 'n_estimators': 30}"
   ]
  },
  {
   "cell_type": "code",
   "execution_count": 42,
   "id": "eb7ce8b1",
   "metadata": {},
   "outputs": [],
   "source": [
    "# Random Forest Model is better than SVR"
   ]
  },
  {
   "cell_type": "markdown",
   "id": "545683bd",
   "metadata": {},
   "source": [
    "<hr style=\"border: 20px solid black\">"
   ]
  },
  {
   "cell_type": "markdown",
   "id": "0b91daf4",
   "metadata": {},
   "source": [
    "<h1>Describe the Case Study Problem and Solution As If You Were Talking to a Hiring Manager</h1>\n",
    "<br>\n",
    "<font size=\"+1\">\n",
    "    <ul>\n",
    "        <li>As a suggestion:</li>\n",
    "        <br>\n",
    "    <ul>\n",
    "        <li>emphasize insights and takeaways,</li>\n",
    "        <br>\n",
    "        <li>what worked,</li>\n",
    "        <br>\n",
    "        <li>what went wrong, </li>\n",
    "        <br>\n",
    "        <li>why did things go wrong, or your best guess,</li>\n",
    "        <br>\n",
    "        <li>what to do next,</li>\n",
    "        <br>\n",
    "        <li>what are next steps you might wish to investigate?</li>\n",
    "        <br>\n",
    "    </ul>\n",
    "    </ul>\n",
    "</font>"
   ]
  },
  {
   "cell_type": "code",
   "execution_count": 55,
   "id": "ad60ad8f",
   "metadata": {},
   "outputs": [],
   "source": [
    "# emphasize insights and takeaways: how to do a prediction with cleaned data and a good model\n",
    "# 1. use visualization to explore correlation between x and y\n",
    "# 2. use stratified/split data (train and test set)\n",
    "# 3. prediction: data cleaning + try various models + compare MSE + choose a relatively good model\n",
    "# 4. resampling techniques\n",
    "# 5. use gridsearchCV/RandomizedSearchCV to find the best parameters\n",
    "# 6. apply parameters we find to do feature importance"
   ]
  },
  {
   "cell_type": "code",
   "execution_count": 59,
   "id": "a7246db4",
   "metadata": {},
   "outputs": [],
   "source": [
    "# what went wrong: data cleaning \n",
    "# need to turn categorical variables into dummy variables to apply prediction\n",
    "# otherwise the fit model will have NA\n",
    "\n",
    "# SVR does not have feature importance, but I can use coefficient to find importance as well"
   ]
  },
  {
   "cell_type": "code",
   "execution_count": 58,
   "id": "3b2e39dd",
   "metadata": {},
   "outputs": [],
   "source": [
    "# worked: gridsearch and randomizedsearch find the same best parameters; prediction; find the most important feature"
   ]
  },
  {
   "cell_type": "code",
   "execution_count": 60,
   "id": "8a3ec932",
   "metadata": {},
   "outputs": [],
   "source": [
    "# The result of SVR turns out that mean_score = 69166.17051097589, with the parameter {'C': 1000, 'kernel': 'linear'}\n",
    "# but RandomForest Model can generate a smaller mean_score; comparing these two models, we should choose RandomForest"
   ]
  },
  {
   "cell_type": "code",
   "execution_count": 57,
   "id": "b55cf4e8",
   "metadata": {},
   "outputs": [],
   "source": [
    "# The next steps I might wish to investigate: use resampling techniques to find a better model class\n",
    "# Try more model classes and compare their MSE to find a relatively small MSE model"
   ]
  },
  {
   "cell_type": "markdown",
   "id": "97202391",
   "metadata": {},
   "source": [
    "<hr style=\"border: 20px solid black\">"
   ]
  },
  {
   "cell_type": "markdown",
   "id": "085743d1",
   "metadata": {},
   "source": [
    "<h1 style=\"color:blue\">EXTRA CREDIT: Try replacing <i>GridSearchCV</i> with <i>RandomizedSearchCV</i>. Does this make a difference?</h1>\n",
    "<br>\n",
    "<font size=\"+1\">\n",
    "    <ul>\n",
    "        <li style=\"color:red\">**Warning**: the code may take close to 45 minutes to run, or more depending on your hardware.</li>\n",
    "        <br>\n",
    "        <li style=\"color:red\">Reduce the number of hyperparameters if needed.</li>\n",
    "        <br>\n",
    "    </ul>\n",
    "</font>"
   ]
  },
  {
   "cell_type": "code",
   "execution_count": 22,
   "id": "eba50187",
   "metadata": {},
   "outputs": [],
   "source": [
    "# grid search\n",
    "from sklearn.model_selection import RandomizedSearchCV\n",
    "\n",
    "param_grid = [\n",
    "  {'C': [1, 10, 100, 1000], 'kernel': ['linear']},\n",
    "  {'C': [1, 10, 100, 1000], 'gamma': [0.001, 0.0001], 'kernel': ['rbf', 'sigmoid']},\n",
    " ]"
   ]
  },
  {
   "cell_type": "code",
   "execution_count": 23,
   "id": "0c5942ff",
   "metadata": {},
   "outputs": [
    {
     "data": {
      "text/html": [
       "<style>#sk-container-id-3 {color: black;background-color: white;}#sk-container-id-3 pre{padding: 0;}#sk-container-id-3 div.sk-toggleable {background-color: white;}#sk-container-id-3 label.sk-toggleable__label {cursor: pointer;display: block;width: 100%;margin-bottom: 0;padding: 0.3em;box-sizing: border-box;text-align: center;}#sk-container-id-3 label.sk-toggleable__label-arrow:before {content: \"▸\";float: left;margin-right: 0.25em;color: #696969;}#sk-container-id-3 label.sk-toggleable__label-arrow:hover:before {color: black;}#sk-container-id-3 div.sk-estimator:hover label.sk-toggleable__label-arrow:before {color: black;}#sk-container-id-3 div.sk-toggleable__content {max-height: 0;max-width: 0;overflow: hidden;text-align: left;background-color: #f0f8ff;}#sk-container-id-3 div.sk-toggleable__content pre {margin: 0.2em;color: black;border-radius: 0.25em;background-color: #f0f8ff;}#sk-container-id-3 input.sk-toggleable__control:checked~div.sk-toggleable__content {max-height: 200px;max-width: 100%;overflow: auto;}#sk-container-id-3 input.sk-toggleable__control:checked~label.sk-toggleable__label-arrow:before {content: \"▾\";}#sk-container-id-3 div.sk-estimator input.sk-toggleable__control:checked~label.sk-toggleable__label {background-color: #d4ebff;}#sk-container-id-3 div.sk-label input.sk-toggleable__control:checked~label.sk-toggleable__label {background-color: #d4ebff;}#sk-container-id-3 input.sk-hidden--visually {border: 0;clip: rect(1px 1px 1px 1px);clip: rect(1px, 1px, 1px, 1px);height: 1px;margin: -1px;overflow: hidden;padding: 0;position: absolute;width: 1px;}#sk-container-id-3 div.sk-estimator {font-family: monospace;background-color: #f0f8ff;border: 1px dotted black;border-radius: 0.25em;box-sizing: border-box;margin-bottom: 0.5em;}#sk-container-id-3 div.sk-estimator:hover {background-color: #d4ebff;}#sk-container-id-3 div.sk-parallel-item::after {content: \"\";width: 100%;border-bottom: 1px solid gray;flex-grow: 1;}#sk-container-id-3 div.sk-label:hover label.sk-toggleable__label {background-color: #d4ebff;}#sk-container-id-3 div.sk-serial::before {content: \"\";position: absolute;border-left: 1px solid gray;box-sizing: border-box;top: 0;bottom: 0;left: 50%;z-index: 0;}#sk-container-id-3 div.sk-serial {display: flex;flex-direction: column;align-items: center;background-color: white;padding-right: 0.2em;padding-left: 0.2em;position: relative;}#sk-container-id-3 div.sk-item {position: relative;z-index: 1;}#sk-container-id-3 div.sk-parallel {display: flex;align-items: stretch;justify-content: center;background-color: white;position: relative;}#sk-container-id-3 div.sk-item::before, #sk-container-id-3 div.sk-parallel-item::before {content: \"\";position: absolute;border-left: 1px solid gray;box-sizing: border-box;top: 0;bottom: 0;left: 50%;z-index: -1;}#sk-container-id-3 div.sk-parallel-item {display: flex;flex-direction: column;z-index: 1;position: relative;background-color: white;}#sk-container-id-3 div.sk-parallel-item:first-child::after {align-self: flex-end;width: 50%;}#sk-container-id-3 div.sk-parallel-item:last-child::after {align-self: flex-start;width: 50%;}#sk-container-id-3 div.sk-parallel-item:only-child::after {width: 0;}#sk-container-id-3 div.sk-dashed-wrapped {border: 1px dashed gray;margin: 0 0.4em 0.5em 0.4em;box-sizing: border-box;padding-bottom: 0.4em;background-color: white;}#sk-container-id-3 div.sk-label label {font-family: monospace;font-weight: bold;display: inline-block;line-height: 1.2em;}#sk-container-id-3 div.sk-label-container {text-align: center;}#sk-container-id-3 div.sk-container {/* jupyter's `normalize.less` sets `[hidden] { display: none; }` but bootstrap.min.css set `[hidden] { display: none !important; }` so we also need the `!important` here to be able to override the default hidden behavior on the sphinx rendered scikit-learn.org. See: https://github.com/scikit-learn/scikit-learn/issues/21755 */display: inline-block !important;position: relative;}#sk-container-id-3 div.sk-text-repr-fallback {display: none;}</style><div id=\"sk-container-id-3\" class=\"sk-top-container\"><div class=\"sk-text-repr-fallback\"><pre>RandomizedSearchCV(cv=5, estimator=SVR(), n_iter=5,\n",
       "                   param_distributions=[{&#x27;C&#x27;: [1, 10, 100, 1000],\n",
       "                                         &#x27;kernel&#x27;: [&#x27;linear&#x27;]},\n",
       "                                        {&#x27;C&#x27;: [1, 10, 100, 1000],\n",
       "                                         &#x27;gamma&#x27;: [0.001, 0.0001],\n",
       "                                         &#x27;kernel&#x27;: [&#x27;rbf&#x27;, &#x27;sigmoid&#x27;]}])</pre><b>In a Jupyter environment, please rerun this cell to show the HTML representation or trust the notebook. <br />On GitHub, the HTML representation is unable to render, please try loading this page with nbviewer.org.</b></div><div class=\"sk-container\" hidden><div class=\"sk-item sk-dashed-wrapped\"><div class=\"sk-label-container\"><div class=\"sk-label sk-toggleable\"><input class=\"sk-toggleable__control sk-hidden--visually\" id=\"sk-estimator-id-5\" type=\"checkbox\" ><label for=\"sk-estimator-id-5\" class=\"sk-toggleable__label sk-toggleable__label-arrow\">RandomizedSearchCV</label><div class=\"sk-toggleable__content\"><pre>RandomizedSearchCV(cv=5, estimator=SVR(), n_iter=5,\n",
       "                   param_distributions=[{&#x27;C&#x27;: [1, 10, 100, 1000],\n",
       "                                         &#x27;kernel&#x27;: [&#x27;linear&#x27;]},\n",
       "                                        {&#x27;C&#x27;: [1, 10, 100, 1000],\n",
       "                                         &#x27;gamma&#x27;: [0.001, 0.0001],\n",
       "                                         &#x27;kernel&#x27;: [&#x27;rbf&#x27;, &#x27;sigmoid&#x27;]}])</pre></div></div></div><div class=\"sk-parallel\"><div class=\"sk-parallel-item\"><div class=\"sk-item\"><div class=\"sk-label-container\"><div class=\"sk-label sk-toggleable\"><input class=\"sk-toggleable__control sk-hidden--visually\" id=\"sk-estimator-id-6\" type=\"checkbox\" ><label for=\"sk-estimator-id-6\" class=\"sk-toggleable__label sk-toggleable__label-arrow\">estimator: SVR</label><div class=\"sk-toggleable__content\"><pre>SVR()</pre></div></div></div><div class=\"sk-serial\"><div class=\"sk-item\"><div class=\"sk-estimator sk-toggleable\"><input class=\"sk-toggleable__control sk-hidden--visually\" id=\"sk-estimator-id-7\" type=\"checkbox\" ><label for=\"sk-estimator-id-7\" class=\"sk-toggleable__label sk-toggleable__label-arrow\">SVR</label><div class=\"sk-toggleable__content\"><pre>SVR()</pre></div></div></div></div></div></div></div></div></div></div>"
      ],
      "text/plain": [
       "RandomizedSearchCV(cv=5, estimator=SVR(), n_iter=5,\n",
       "                   param_distributions=[{'C': [1, 10, 100, 1000],\n",
       "                                         'kernel': ['linear']},\n",
       "                                        {'C': [1, 10, 100, 1000],\n",
       "                                         'gamma': [0.001, 0.0001],\n",
       "                                         'kernel': ['rbf', 'sigmoid']}])"
      ]
     },
     "execution_count": 23,
     "metadata": {},
     "output_type": "execute_result"
    }
   ],
   "source": [
    "from sklearn.svm import SVR\n",
    "\n",
    "SVR_reg = SVR()\n",
    "\n",
    "rnd_search = RandomizedSearchCV(SVR_reg,\n",
    "                          param_grid,\n",
    "                          n_iter =5,\n",
    "                          cv=5,\n",
    "                          )\n",
    "# 'refit=True' means once grid search finds the best estimator using CV, \n",
    "# it re-estimates the model on the whole training set\n",
    "\n",
    "rnd_search.fit(X_train_cleaned, Y_train)"
   ]
  },
  {
   "cell_type": "code",
   "execution_count": 24,
   "id": "dcce53b5",
   "metadata": {},
   "outputs": [
    {
     "data": {
      "text/html": [
       "<style>#sk-container-id-4 {color: black;background-color: white;}#sk-container-id-4 pre{padding: 0;}#sk-container-id-4 div.sk-toggleable {background-color: white;}#sk-container-id-4 label.sk-toggleable__label {cursor: pointer;display: block;width: 100%;margin-bottom: 0;padding: 0.3em;box-sizing: border-box;text-align: center;}#sk-container-id-4 label.sk-toggleable__label-arrow:before {content: \"▸\";float: left;margin-right: 0.25em;color: #696969;}#sk-container-id-4 label.sk-toggleable__label-arrow:hover:before {color: black;}#sk-container-id-4 div.sk-estimator:hover label.sk-toggleable__label-arrow:before {color: black;}#sk-container-id-4 div.sk-toggleable__content {max-height: 0;max-width: 0;overflow: hidden;text-align: left;background-color: #f0f8ff;}#sk-container-id-4 div.sk-toggleable__content pre {margin: 0.2em;color: black;border-radius: 0.25em;background-color: #f0f8ff;}#sk-container-id-4 input.sk-toggleable__control:checked~div.sk-toggleable__content {max-height: 200px;max-width: 100%;overflow: auto;}#sk-container-id-4 input.sk-toggleable__control:checked~label.sk-toggleable__label-arrow:before {content: \"▾\";}#sk-container-id-4 div.sk-estimator input.sk-toggleable__control:checked~label.sk-toggleable__label {background-color: #d4ebff;}#sk-container-id-4 div.sk-label input.sk-toggleable__control:checked~label.sk-toggleable__label {background-color: #d4ebff;}#sk-container-id-4 input.sk-hidden--visually {border: 0;clip: rect(1px 1px 1px 1px);clip: rect(1px, 1px, 1px, 1px);height: 1px;margin: -1px;overflow: hidden;padding: 0;position: absolute;width: 1px;}#sk-container-id-4 div.sk-estimator {font-family: monospace;background-color: #f0f8ff;border: 1px dotted black;border-radius: 0.25em;box-sizing: border-box;margin-bottom: 0.5em;}#sk-container-id-4 div.sk-estimator:hover {background-color: #d4ebff;}#sk-container-id-4 div.sk-parallel-item::after {content: \"\";width: 100%;border-bottom: 1px solid gray;flex-grow: 1;}#sk-container-id-4 div.sk-label:hover label.sk-toggleable__label {background-color: #d4ebff;}#sk-container-id-4 div.sk-serial::before {content: \"\";position: absolute;border-left: 1px solid gray;box-sizing: border-box;top: 0;bottom: 0;left: 50%;z-index: 0;}#sk-container-id-4 div.sk-serial {display: flex;flex-direction: column;align-items: center;background-color: white;padding-right: 0.2em;padding-left: 0.2em;position: relative;}#sk-container-id-4 div.sk-item {position: relative;z-index: 1;}#sk-container-id-4 div.sk-parallel {display: flex;align-items: stretch;justify-content: center;background-color: white;position: relative;}#sk-container-id-4 div.sk-item::before, #sk-container-id-4 div.sk-parallel-item::before {content: \"\";position: absolute;border-left: 1px solid gray;box-sizing: border-box;top: 0;bottom: 0;left: 50%;z-index: -1;}#sk-container-id-4 div.sk-parallel-item {display: flex;flex-direction: column;z-index: 1;position: relative;background-color: white;}#sk-container-id-4 div.sk-parallel-item:first-child::after {align-self: flex-end;width: 50%;}#sk-container-id-4 div.sk-parallel-item:last-child::after {align-self: flex-start;width: 50%;}#sk-container-id-4 div.sk-parallel-item:only-child::after {width: 0;}#sk-container-id-4 div.sk-dashed-wrapped {border: 1px dashed gray;margin: 0 0.4em 0.5em 0.4em;box-sizing: border-box;padding-bottom: 0.4em;background-color: white;}#sk-container-id-4 div.sk-label label {font-family: monospace;font-weight: bold;display: inline-block;line-height: 1.2em;}#sk-container-id-4 div.sk-label-container {text-align: center;}#sk-container-id-4 div.sk-container {/* jupyter's `normalize.less` sets `[hidden] { display: none; }` but bootstrap.min.css set `[hidden] { display: none !important; }` so we also need the `!important` here to be able to override the default hidden behavior on the sphinx rendered scikit-learn.org. See: https://github.com/scikit-learn/scikit-learn/issues/21755 */display: inline-block !important;position: relative;}#sk-container-id-4 div.sk-text-repr-fallback {display: none;}</style><div id=\"sk-container-id-4\" class=\"sk-top-container\"><div class=\"sk-text-repr-fallback\"><pre>SVR(C=1000, kernel=&#x27;linear&#x27;)</pre><b>In a Jupyter environment, please rerun this cell to show the HTML representation or trust the notebook. <br />On GitHub, the HTML representation is unable to render, please try loading this page with nbviewer.org.</b></div><div class=\"sk-container\" hidden><div class=\"sk-item\"><div class=\"sk-estimator sk-toggleable\"><input class=\"sk-toggleable__control sk-hidden--visually\" id=\"sk-estimator-id-8\" type=\"checkbox\" checked><label for=\"sk-estimator-id-8\" class=\"sk-toggleable__label sk-toggleable__label-arrow\">SVR</label><div class=\"sk-toggleable__content\"><pre>SVR(C=1000, kernel=&#x27;linear&#x27;)</pre></div></div></div></div></div>"
      ],
      "text/plain": [
       "SVR(C=1000, kernel='linear')"
      ]
     },
     "execution_count": 24,
     "metadata": {},
     "output_type": "execute_result"
    }
   ],
   "source": [
    "rnd_search.best_estimator_"
   ]
  },
  {
   "cell_type": "code",
   "execution_count": 43,
   "id": "79e835c6",
   "metadata": {},
   "outputs": [],
   "source": [
    "# GridSearchCV and RandomizedSearchCV generate the same result (C=1000, kernel='linear')"
   ]
  },
  {
   "cell_type": "markdown",
   "id": "6d6d1261",
   "metadata": {},
   "source": [
    "<hr style=\"border: 20px solid black\">"
   ]
  },
  {
   "cell_type": "markdown",
   "id": "92846120",
   "metadata": {},
   "source": [
    "<h1 style=\"color:blue\">EXTRA CREDIT: Add a step before you fit your model to select only the most important predictor variables.</h1>\n",
    "<br>\n",
    "<font size=\"+1\">\n",
    "    <ul>\n",
    "        <li>This question is meant to be open ended. </li>\n",
    "        <br>\n",
    "        <li>You decide, and justify, how you are choosing which variables are important.</li>\n",
    "        <br>\n",
    "    </ul>\n",
    "</font>"
   ]
  },
  {
   "cell_type": "code",
   "execution_count": 53,
   "id": "e779ca84",
   "metadata": {},
   "outputs": [],
   "source": [
    "# from question 5&6, c = 1000, kernel = 'linear' is the best parameter\n",
    "model = SVR(C = 1000, kernel = 'linear')"
   ]
  },
  {
   "cell_type": "code",
   "execution_count": 54,
   "id": "edf77837",
   "metadata": {},
   "outputs": [
    {
     "data": {
      "text/html": [
       "<style>#sk-container-id-7 {color: black;background-color: white;}#sk-container-id-7 pre{padding: 0;}#sk-container-id-7 div.sk-toggleable {background-color: white;}#sk-container-id-7 label.sk-toggleable__label {cursor: pointer;display: block;width: 100%;margin-bottom: 0;padding: 0.3em;box-sizing: border-box;text-align: center;}#sk-container-id-7 label.sk-toggleable__label-arrow:before {content: \"▸\";float: left;margin-right: 0.25em;color: #696969;}#sk-container-id-7 label.sk-toggleable__label-arrow:hover:before {color: black;}#sk-container-id-7 div.sk-estimator:hover label.sk-toggleable__label-arrow:before {color: black;}#sk-container-id-7 div.sk-toggleable__content {max-height: 0;max-width: 0;overflow: hidden;text-align: left;background-color: #f0f8ff;}#sk-container-id-7 div.sk-toggleable__content pre {margin: 0.2em;color: black;border-radius: 0.25em;background-color: #f0f8ff;}#sk-container-id-7 input.sk-toggleable__control:checked~div.sk-toggleable__content {max-height: 200px;max-width: 100%;overflow: auto;}#sk-container-id-7 input.sk-toggleable__control:checked~label.sk-toggleable__label-arrow:before {content: \"▾\";}#sk-container-id-7 div.sk-estimator input.sk-toggleable__control:checked~label.sk-toggleable__label {background-color: #d4ebff;}#sk-container-id-7 div.sk-label input.sk-toggleable__control:checked~label.sk-toggleable__label {background-color: #d4ebff;}#sk-container-id-7 input.sk-hidden--visually {border: 0;clip: rect(1px 1px 1px 1px);clip: rect(1px, 1px, 1px, 1px);height: 1px;margin: -1px;overflow: hidden;padding: 0;position: absolute;width: 1px;}#sk-container-id-7 div.sk-estimator {font-family: monospace;background-color: #f0f8ff;border: 1px dotted black;border-radius: 0.25em;box-sizing: border-box;margin-bottom: 0.5em;}#sk-container-id-7 div.sk-estimator:hover {background-color: #d4ebff;}#sk-container-id-7 div.sk-parallel-item::after {content: \"\";width: 100%;border-bottom: 1px solid gray;flex-grow: 1;}#sk-container-id-7 div.sk-label:hover label.sk-toggleable__label {background-color: #d4ebff;}#sk-container-id-7 div.sk-serial::before {content: \"\";position: absolute;border-left: 1px solid gray;box-sizing: border-box;top: 0;bottom: 0;left: 50%;z-index: 0;}#sk-container-id-7 div.sk-serial {display: flex;flex-direction: column;align-items: center;background-color: white;padding-right: 0.2em;padding-left: 0.2em;position: relative;}#sk-container-id-7 div.sk-item {position: relative;z-index: 1;}#sk-container-id-7 div.sk-parallel {display: flex;align-items: stretch;justify-content: center;background-color: white;position: relative;}#sk-container-id-7 div.sk-item::before, #sk-container-id-7 div.sk-parallel-item::before {content: \"\";position: absolute;border-left: 1px solid gray;box-sizing: border-box;top: 0;bottom: 0;left: 50%;z-index: -1;}#sk-container-id-7 div.sk-parallel-item {display: flex;flex-direction: column;z-index: 1;position: relative;background-color: white;}#sk-container-id-7 div.sk-parallel-item:first-child::after {align-self: flex-end;width: 50%;}#sk-container-id-7 div.sk-parallel-item:last-child::after {align-self: flex-start;width: 50%;}#sk-container-id-7 div.sk-parallel-item:only-child::after {width: 0;}#sk-container-id-7 div.sk-dashed-wrapped {border: 1px dashed gray;margin: 0 0.4em 0.5em 0.4em;box-sizing: border-box;padding-bottom: 0.4em;background-color: white;}#sk-container-id-7 div.sk-label label {font-family: monospace;font-weight: bold;display: inline-block;line-height: 1.2em;}#sk-container-id-7 div.sk-label-container {text-align: center;}#sk-container-id-7 div.sk-container {/* jupyter's `normalize.less` sets `[hidden] { display: none; }` but bootstrap.min.css set `[hidden] { display: none !important; }` so we also need the `!important` here to be able to override the default hidden behavior on the sphinx rendered scikit-learn.org. See: https://github.com/scikit-learn/scikit-learn/issues/21755 */display: inline-block !important;position: relative;}#sk-container-id-7 div.sk-text-repr-fallback {display: none;}</style><div id=\"sk-container-id-7\" class=\"sk-top-container\"><div class=\"sk-text-repr-fallback\"><pre>SVR(C=1000, kernel=&#x27;linear&#x27;)</pre><b>In a Jupyter environment, please rerun this cell to show the HTML representation or trust the notebook. <br />On GitHub, the HTML representation is unable to render, please try loading this page with nbviewer.org.</b></div><div class=\"sk-container\" hidden><div class=\"sk-item\"><div class=\"sk-estimator sk-toggleable\"><input class=\"sk-toggleable__control sk-hidden--visually\" id=\"sk-estimator-id-11\" type=\"checkbox\" checked><label for=\"sk-estimator-id-11\" class=\"sk-toggleable__label sk-toggleable__label-arrow\">SVR</label><div class=\"sk-toggleable__content\"><pre>SVR(C=1000, kernel=&#x27;linear&#x27;)</pre></div></div></div></div></div>"
      ],
      "text/plain": [
       "SVR(C=1000, kernel='linear')"
      ]
     },
     "execution_count": 54,
     "metadata": {},
     "output_type": "execute_result"
    }
   ],
   "source": [
    "model.fit(X_train_cleaned, Y_train)"
   ]
  },
  {
   "cell_type": "code",
   "execution_count": 33,
   "id": "eb7010b8",
   "metadata": {},
   "outputs": [],
   "source": [
    "importance = model.coef_"
   ]
  },
  {
   "cell_type": "code",
   "execution_count": 34,
   "id": "4179cd88",
   "metadata": {},
   "outputs": [
    {
     "data": {
      "text/plain": [
       "array([[ 19445.99888819,  38210.31414827,  10050.38528917,\n",
       "        -34930.61211495, -37860.55918164,  82625.01519294,\n",
       "        -41370.70908229,   -490.5744428 ,   7801.13519955,\n",
       "          4780.32664075,   2934.2762811 ,   9327.18001569,\n",
       "        -29975.59013193,   4000.        ,   1504.22078658,\n",
       "         15144.18932966]])"
      ]
     },
     "execution_count": 34,
     "metadata": {},
     "output_type": "execute_result"
    }
   ],
   "source": [
    "importance"
   ]
  },
  {
   "cell_type": "code",
   "execution_count": 49,
   "id": "c4f74f5a",
   "metadata": {},
   "outputs": [
    {
     "name": "stdout",
     "output_type": "stream",
     "text": [
      "bedrooms_per_room                [ 19445.99888819  38210.31414827  10050.38528917 -34930.61211495\n",
      " -37860.55918164  82625.01519294 -41370.70908229   -490.5744428\n",
      "   7801.13519955   4780.32664075   2934.2762811    9327.18001569\n",
      " -29975.59013193   4000.           1504.22078658  15144.18932966]\n"
     ]
    }
   ],
   "source": [
    "for predictor, importance in zip(X_train_cleaned.columns, importance):\n",
    "    print(predictor, \"              \", importance)"
   ]
  },
  {
   "cell_type": "code",
   "execution_count": 51,
   "id": "73e51140",
   "metadata": {},
   "outputs": [
    {
     "data": {
      "text/plain": [
       "[(82625.0151929443, 'median_income'),\n",
       " (38210.3141482739, 'households'),\n",
       " (19445.998888186157, 'bedrooms_per_room'),\n",
       " (15144.189329662277, 'NEAR OCEAN'),\n",
       " (10050.385289174403, 'housing_median_age'),\n",
       " (9327.180015689122, '<1H OCEAN'),\n",
       " (7801.135199547789, 'rooms_per_household'),\n",
       " (4780.326640752726, 'total_bedrooms'),\n",
       " (4000.0, 'ISLAND'),\n",
       " (2934.2762811011125, 'total_rooms'),\n",
       " (1504.2207865785676, 'NEAR BAY'),\n",
       " (-490.57444280399795, 'population_per_household'),\n",
       " (-29975.590131929977, 'INLAND'),\n",
       " (-34930.612114952295, 'latitude'),\n",
       " (-37860.55918163543, 'longitude'),\n",
       " (-41370.7090822858, 'population')]"
      ]
     },
     "execution_count": 51,
     "metadata": {},
     "output_type": "execute_result"
    }
   ],
   "source": [
    "sorted(zip(importance, X_train_cleaned.columns), reverse=True)"
   ]
  },
  {
   "cell_type": "code",
   "execution_count": 52,
   "id": "97d18204",
   "metadata": {},
   "outputs": [],
   "source": [
    "# the most important predictor variable: median_income"
   ]
  }
 ],
 "metadata": {
  "hide_input": false,
  "kernelspec": {
   "display_name": "Python 3 (ipykernel)",
   "language": "python",
   "name": "python3"
  },
  "language_info": {
   "codemirror_mode": {
    "name": "ipython",
    "version": 3
   },
   "file_extension": ".py",
   "mimetype": "text/x-python",
   "name": "python",
   "nbconvert_exporter": "python",
   "pygments_lexer": "ipython3",
   "version": "3.9.12"
  },
  "toc": {
   "base_numbering": 1,
   "nav_menu": {},
   "number_sections": true,
   "sideBar": true,
   "skip_h1_title": false,
   "title_cell": "Table of Contents",
   "title_sidebar": "Contents",
   "toc_cell": true,
   "toc_position": {
    "height": "calc(100% - 180px)",
    "left": "10px",
    "top": "150px",
    "width": "165px"
   },
   "toc_section_display": true,
   "toc_window_display": true
  }
 },
 "nbformat": 4,
 "nbformat_minor": 5
}
